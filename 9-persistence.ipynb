{
 "cells": [
  {
   "cell_type": "code",
   "execution_count": 8,
   "id": "1e644be3",
   "metadata": {},
   "outputs": [
    {
     "data": {
      "text/plain": [
       "True"
      ]
     },
     "execution_count": 8,
     "metadata": {},
     "output_type": "execute_result"
    }
   ],
   "source": [
    "from langgraph.graph import StateGraph, START, END\n",
    "from typing import TypedDict, Annotated\n",
    "from langchain_core.messages import BaseMessage, HumanMessage\n",
    "from langchain_groq import ChatGroq\n",
    "from dotenv import load_dotenv\n",
    "from langgraph.checkpoint.memory import InMemorySaver\n",
    "from langgraph.graph.message import add_messages\n",
    "load_dotenv()"
   ]
  },
  {
   "cell_type": "code",
   "execution_count": 9,
   "id": "3d038c1f",
   "metadata": {},
   "outputs": [],
   "source": [
    "llm = ChatGroq(model=\"llama-3.1-8b-instant\")"
   ]
  },
  {
   "cell_type": "code",
   "execution_count": 10,
   "id": "fb56c7b2",
   "metadata": {},
   "outputs": [],
   "source": [
    "class JokeState(TypedDict):\n",
    "    topic: str\n",
    "    joke: str\n",
    "    explanation: str"
   ]
  },
  {
   "cell_type": "code",
   "execution_count": 11,
   "id": "e329c9ce",
   "metadata": {},
   "outputs": [],
   "source": [
    "def generate_joke(state: JokeState):\n",
    "\n",
    "    prompt = f'generate a joke on the topic {state[\"topic\"]}'\n",
    "    response = llm.invoke(prompt).content\n",
    "\n",
    "    return {'joke': response}"
   ]
  },
  {
   "cell_type": "code",
   "execution_count": 12,
   "id": "f46dfbf6",
   "metadata": {},
   "outputs": [],
   "source": [
    "def generate_explanation(state: JokeState):\n",
    "\n",
    "    prompt = f'write an explanation for the joke - {state[\"joke\"]}'\n",
    "    response = llm.invoke(prompt).content\n",
    "\n",
    "    return {'explanation': response}"
   ]
  },
  {
   "cell_type": "code",
   "execution_count": 14,
   "id": "b1b24a9e",
   "metadata": {},
   "outputs": [
    {
     "data": {
      "image/png": "[encoded data removed]",
      "text/plain": [
       "<langgraph.graph.state.CompiledStateGraph object at 0x0000021860D01810>"
      ]
     },
     "execution_count": 14,
     "metadata": {},
     "output_type": "execute_result"
    }
   ],
   "source": [
    "graph = StateGraph(JokeState)\n",
    "\n",
    "graph.add_node('generate_joke', generate_joke)\n",
    "graph.add_node('generate_explanation', generate_explanation)\n",
    "\n",
    "graph.add_edge(START, 'generate_joke')\n",
    "graph.add_edge('generate_joke', 'generate_explanation')\n",
    "graph.add_edge('generate_explanation', END)\n",
    "\n",
    "checkpointer = InMemorySaver()\n",
    "\n",
    "workflow = graph.compile(checkpointer=checkpointer)\n",
    "workflow"
   ]
  },
  {
   "cell_type": "code",
   "execution_count": 15,
   "id": "1c916b85",
   "metadata": {},
   "outputs": [
    {
     "data": {
      "text/plain": [
       "{'topic': 'cats',\n",
       " 'joke': 'Why did the cat join a band? \\n\\nBecause it wanted to be the purr-cussionist.',\n",
       " 'explanation': 'The joke is a play on words. The punchline \"purr-cussionist\" is a pun on the word \"percussionist,\" which is a type of musician who plays percussion instruments, such as drums. However, \"purr-cussionist\" incorporates the sound a cat makes, a \"purr,\" to create a cat-themed pun.\\n\\nThe joke requires a basic understanding of music and the role of a percussionist, as well as familiarity with cat sounds and behavior. The humor comes from the unexpected twist on the word \"percussionist\" and the clever way it incorporates the cat\\'s purring sound, creating a clever and punny connection between the cat and its potential role in the band.'}"
      ]
     },
     "execution_count": 15,
     "metadata": {},
     "output_type": "execute_result"
    }
   ],
   "source": [
    "config = {\"configurable\": {\"thread_id\": \"1\"}}\n",
    "\n",
    "workflow.invoke({'topic': 'cats'}, config=config)"
   ]
  },
  {
   "cell_type": "code",
   "execution_count": 16,
   "id": "1d2ca7c9",
   "metadata": {},
   "outputs": [
    {
     "data": {
      "text/plain": [
       "StateSnapshot(values={'topic': 'cats', 'joke': 'Why did the cat join a band? \\n\\nBecause it wanted to be the purr-cussionist.', 'explanation': 'The joke is a play on words. The punchline \"purr-cussionist\" is a pun on the word \"percussionist,\" which is a type of musician who plays percussion instruments, such as drums. However, \"purr-cussionist\" incorporates the sound a cat makes, a \"purr,\" to create a cat-themed pun.\\n\\nThe joke requires a basic understanding of music and the role of a percussionist, as well as familiarity with cat sounds and behavior. The humor comes from the unexpected twist on the word \"percussionist\" and the clever way it incorporates the cat\\'s purring sound, creating a clever and punny connection between the cat and its potential role in the band.'}, next=(), config={'configurable': {'thread_id': '1', 'checkpoint_ns': '', 'checkpoint_id': '1f074467-23ef-6cb5-8002-001f80c190e5'}}, metadata={'source': 'loop', 'step': 2, 'parents': {}, 'thread_id': '1'}, created_at='2025-08-08T10:57:16.174839+00:00', parent_config={'configurable': {'thread_id': '1', 'checkpoint_ns': '', 'checkpoint_id': '1f074467-2020-69aa-8001-acae70289a36'}}, tasks=(), interrupts=())"
      ]
     },
     "execution_count": 16,
     "metadata": {},
     "output_type": "execute_result"
    }
   ],
   "source": [
    "workflow.get_state(config)"
   ]
  },
  {
   "cell_type": "code",
   "execution_count": 17,
   "id": "39ce8ce8",
   "metadata": {},
   "outputs": [
    {
     "data": {
      "text/plain": [
       "[StateSnapshot(values={'topic': 'cats', 'joke': 'Why did the cat join a band? \\n\\nBecause it wanted to be the purr-cussionist.', 'explanation': 'The joke is a play on words. The punchline \"purr-cussionist\" is a pun on the word \"percussionist,\" which is a type of musician who plays percussion instruments, such as drums. However, \"purr-cussionist\" incorporates the sound a cat makes, a \"purr,\" to create a cat-themed pun.\\n\\nThe joke requires a basic understanding of music and the role of a percussionist, as well as familiarity with cat sounds and behavior. The humor comes from the unexpected twist on the word \"percussionist\" and the clever way it incorporates the cat\\'s purring sound, creating a clever and punny connection between the cat and its potential role in the band.'}, next=(), config={'configurable': {'thread_id': '1', 'checkpoint_ns': '', 'checkpoint_id': '1f074467-23ef-6cb5-8002-001f80c190e5'}}, metadata={'source': 'loop', 'step': 2, 'parents': {}, 'thread_id': '1'}, created_at='2025-08-08T10:57:16.174839+00:00', parent_config={'configurable': {'thread_id': '1', 'checkpoint_ns': '', 'checkpoint_id': '1f074467-2020-69aa-8001-acae70289a36'}}, tasks=(), interrupts=()),\n",
       " StateSnapshot(values={'topic': 'cats', 'joke': 'Why did the cat join a band? \\n\\nBecause it wanted to be the purr-cussionist.'}, next=('generate_explanation',), config={'configurable': {'thread_id': '1', 'checkpoint_ns': '', 'checkpoint_id': '1f074467-2020-69aa-8001-acae70289a36'}}, metadata={'source': 'loop', 'step': 1, 'parents': {}, 'thread_id': '1'}, created_at='2025-08-08T10:57:15.775412+00:00', parent_config={'configurable': {'thread_id': '1', 'checkpoint_ns': '', 'checkpoint_id': '1f074467-08fd-6549-8000-407da77d27d0'}}, tasks=(PregelTask(id='700e835f-6862-59e2-8485-b0aa3133054d', name='generate_explanation', path=('__pregel_pull', 'generate_explanation'), error=None, interrupts=(), state=None, result={'explanation': 'The joke is a play on words. The punchline \"purr-cussionist\" is a pun on the word \"percussionist,\" which is a type of musician who plays percussion instruments, such as drums. However, \"purr-cussionist\" incorporates the sound a cat makes, a \"purr,\" to create a cat-themed pun.\\n\\nThe joke requires a basic understanding of music and the role of a percussionist, as well as familiarity with cat sounds and behavior. The humor comes from the unexpected twist on the word \"percussionist\" and the clever way it incorporates the cat\\'s purring sound, creating a clever and punny connection between the cat and its potential role in the band.'}),), interrupts=()),\n",
       " StateSnapshot(values={'topic': 'cats'}, next=('generate_joke',), config={'configurable': {'thread_id': '1', 'checkpoint_ns': '', 'checkpoint_id': '1f074467-08fd-6549-8000-407da77d27d0'}}, metadata={'source': 'loop', 'step': 0, 'parents': {}, 'thread_id': '1'}, created_at='2025-08-08T10:57:13.349236+00:00', parent_config={'configurable': {'thread_id': '1', 'checkpoint_ns': '', 'checkpoint_id': '1f074467-05aa-6aa1-bfff-9ece3da11ad3'}}, tasks=(PregelTask(id='a1b2c9e7-fafc-bbab-329b-190258fffa90', name='generate_joke', path=('__pregel_pull', 'generate_joke'), error=None, interrupts=(), state=None, result={'joke': 'Why did the cat join a band? \\n\\nBecause it wanted to be the purr-cussionist.'}),), interrupts=()),\n",
       " StateSnapshot(values={}, next=('__start__',), config={'configurable': {'thread_id': '1', 'checkpoint_ns': '', 'checkpoint_id': '1f074467-05aa-6aa1-bfff-9ece3da11ad3'}}, metadata={'source': 'input', 'step': -1, 'parents': {}, 'thread_id': '1'}, created_at='2025-08-08T10:57:13.000797+00:00', parent_config=None, tasks=(PregelTask(id='7d3fc649-f667-1c01-7719-79efcb9f9e54', name='__start__', path=('__pregel_pull', '__start__'), error=None, interrupts=(), state=None, result={'topic': 'cats'}),), interrupts=())]"
      ]
     },
     "execution_count": 17,
     "metadata": {},
     "output_type": "execute_result"
    }
   ],
   "source": [
    "list(workflow.get_state_history(config))"
   ]
  },
  {
   "cell_type": "code",
   "execution_count": 18,
   "id": "a71876b4",
   "metadata": {},
   "outputs": [
    {
     "data": {
      "text/plain": [
       "{'topic': 'pasta',\n",
       " 'joke': 'Why did the spaghetti go to therapy? \\n\\nBecause it was feeling a little \"twisted\" and had a lot of \"saucy\" issues to work through.',\n",
       " 'explanation': 'The joke is a play on words, using puns to create a humorous effect. Here\\'s a breakdown of the explanation:\\n\\n- \"Twisted\" is a common phrase that can mean a person is feeling a bit confused, anxious, or upset. In this context, it\\'s used to describe the spaghetti, which is literally twisted or tangled, referencing its curly shape. This double meaning creates a clever wordplay.\\n\\n- \"Saucy\" is a colloquial term used to describe someone or something that\\'s a bit cheeky or flirtatious. However, in this joke, it\\'s also a reference to the fact that spaghetti is typically served with a tomato-based sauce. This pun connects the word \"saucy\" to the food item, the spaghetti.\\n\\nBy combining these two puns, the joke creates a clever and unexpected connection between the setup (\"spaghetti went to therapy\") and the punchline (\"feeling a little twisted\" and \"had a lot of saucy issues\"). The humor comes from the clever use of language and the unexpected twist on the usual meaning of the words.'}"
      ]
     },
     "execution_count": 18,
     "metadata": {},
     "output_type": "execute_result"
    }
   ],
   "source": [
    "config2 = {\"configurable\": {\"thread_id\": \"2\"}}\n",
    "workflow.invoke({'topic':'pasta'}, config=config2)"
   ]
  },
  {
   "cell_type": "code",
   "execution_count": 19,
   "id": "7d106a46",
   "metadata": {},
   "outputs": [
    {
     "data": {
      "text/plain": [
       "StateSnapshot(values={'topic': 'pasta', 'joke': 'Why did the spaghetti go to therapy? \\n\\nBecause it was feeling a little \"twisted\" and had a lot of \"saucy\" issues to work through.', 'explanation': 'The joke is a play on words, using puns to create a humorous effect. Here\\'s a breakdown of the explanation:\\n\\n- \"Twisted\" is a common phrase that can mean a person is feeling a bit confused, anxious, or upset. In this context, it\\'s used to describe the spaghetti, which is literally twisted or tangled, referencing its curly shape. This double meaning creates a clever wordplay.\\n\\n- \"Saucy\" is a colloquial term used to describe someone or something that\\'s a bit cheeky or flirtatious. However, in this joke, it\\'s also a reference to the fact that spaghetti is typically served with a tomato-based sauce. This pun connects the word \"saucy\" to the food item, the spaghetti.\\n\\nBy combining these two puns, the joke creates a clever and unexpected connection between the setup (\"spaghetti went to therapy\") and the punchline (\"feeling a little twisted\" and \"had a lot of saucy issues\"). The humor comes from the clever use of language and the unexpected twist on the usual meaning of the words.'}, next=(), config={'configurable': {'thread_id': '2', 'checkpoint_ns': '', 'checkpoint_id': '1f07446b-74ce-6c43-8002-1c6bf5c03e96'}}, metadata={'source': 'loop', 'step': 2, 'parents': {}, 'thread_id': '2'}, created_at='2025-08-08T10:59:12.028968+00:00', parent_config={'configurable': {'thread_id': '2', 'checkpoint_ns': '', 'checkpoint_id': '1f07446b-7040-63b5-8001-76b525b8c7bf'}}, tasks=(), interrupts=())"
      ]
     },
     "execution_count": 19,
     "metadata": {},
     "output_type": "execute_result"
    }
   ],
   "source": [
    "workflow.get_state(config2)"
   ]
  },
  {
   "cell_type": "code",
   "execution_count": 21,
   "id": "ff3e258e",
   "metadata": {},
   "outputs": [
    {
     "data": {
      "text/plain": [
       "[StateSnapshot(values={'topic': 'pasta', 'joke': 'Why did the spaghetti go to therapy? \\n\\nBecause it was feeling a little \"twisted\" and had a lot of \"saucy\" issues to work through.', 'explanation': 'The joke is a play on words, using puns to create a humorous effect. Here\\'s a breakdown of the explanation:\\n\\n- \"Twisted\" is a common phrase that can mean a person is feeling a bit confused, anxious, or upset. In this context, it\\'s used to describe the spaghetti, which is literally twisted or tangled, referencing its curly shape. This double meaning creates a clever wordplay.\\n\\n- \"Saucy\" is a colloquial term used to describe someone or something that\\'s a bit cheeky or flirtatious. However, in this joke, it\\'s also a reference to the fact that spaghetti is typically served with a tomato-based sauce. This pun connects the word \"saucy\" to the food item, the spaghetti.\\n\\nBy combining these two puns, the joke creates a clever and unexpected connection between the setup (\"spaghetti went to therapy\") and the punchline (\"feeling a little twisted\" and \"had a lot of saucy issues\"). The humor comes from the clever use of language and the unexpected twist on the usual meaning of the words.'}, next=(), config={'configurable': {'thread_id': '2', 'checkpoint_ns': '', 'checkpoint_id': '1f07446b-74ce-6c43-8002-1c6bf5c03e96'}}, metadata={'source': 'loop', 'step': 2, 'parents': {}, 'thread_id': '2'}, created_at='2025-08-08T10:59:12.028968+00:00', parent_config={'configurable': {'thread_id': '2', 'checkpoint_ns': '', 'checkpoint_id': '1f07446b-7040-63b5-8001-76b525b8c7bf'}}, tasks=(), interrupts=()),\n",
       " StateSnapshot(values={'topic': 'pasta', 'joke': 'Why did the spaghetti go to therapy? \\n\\nBecause it was feeling a little \"twisted\" and had a lot of \"saucy\" issues to work through.'}, next=('generate_explanation',), config={'configurable': {'thread_id': '2', 'checkpoint_ns': '', 'checkpoint_id': '1f07446b-7040-63b5-8001-76b525b8c7bf'}}, metadata={'source': 'loop', 'step': 1, 'parents': {}, 'thread_id': '2'}, created_at='2025-08-08T10:59:11.551155+00:00', parent_config={'configurable': {'thread_id': '2', 'checkpoint_ns': '', 'checkpoint_id': '1f07446b-6adc-63e7-8000-1ab137f2be85'}}, tasks=(PregelTask(id='0faab8a8-db01-c770-cef1-b2a74ca2b4b1', name='generate_explanation', path=('__pregel_pull', 'generate_explanation'), error=None, interrupts=(), state=None, result={'explanation': 'The joke is a play on words, using puns to create a humorous effect. Here\\'s a breakdown of the explanation:\\n\\n- \"Twisted\" is a common phrase that can mean a person is feeling a bit confused, anxious, or upset. In this context, it\\'s used to describe the spaghetti, which is literally twisted or tangled, referencing its curly shape. This double meaning creates a clever wordplay.\\n\\n- \"Saucy\" is a colloquial term used to describe someone or something that\\'s a bit cheeky or flirtatious. However, in this joke, it\\'s also a reference to the fact that spaghetti is typically served with a tomato-based sauce. This pun connects the word \"saucy\" to the food item, the spaghetti.\\n\\nBy combining these two puns, the joke creates a clever and unexpected connection between the setup (\"spaghetti went to therapy\") and the punchline (\"feeling a little twisted\" and \"had a lot of saucy issues\"). The humor comes from the clever use of language and the unexpected twist on the usual meaning of the words.'}),), interrupts=()),\n",
       " StateSnapshot(values={'topic': 'pasta'}, next=('generate_joke',), config={'configurable': {'thread_id': '2', 'checkpoint_ns': '', 'checkpoint_id': '1f07446b-6adc-63e7-8000-1ab137f2be85'}}, metadata={'source': 'loop', 'step': 0, 'parents': {}, 'thread_id': '2'}, created_at='2025-08-08T10:59:10.985915+00:00', parent_config={'configurable': {'thread_id': '2', 'checkpoint_ns': '', 'checkpoint_id': '1f07446b-6ada-6143-bfff-301655144f36'}}, tasks=(PregelTask(id='28d4551d-3156-adf1-69df-1a9a35812e10', name='generate_joke', path=('__pregel_pull', 'generate_joke'), error=None, interrupts=(), state=None, result={'joke': 'Why did the spaghetti go to therapy? \\n\\nBecause it was feeling a little \"twisted\" and had a lot of \"saucy\" issues to work through.'}),), interrupts=()),\n",
       " StateSnapshot(values={}, next=('__start__',), config={'configurable': {'thread_id': '2', 'checkpoint_ns': '', 'checkpoint_id': '1f07446b-6ada-6143-bfff-301655144f36'}}, metadata={'source': 'input', 'step': -1, 'parents': {}, 'thread_id': '2'}, created_at='2025-08-08T10:59:10.985034+00:00', parent_config=None, tasks=(PregelTask(id='756f4bec-4cbf-36ea-67a7-073714abf911', name='__start__', path=('__pregel_pull', '__start__'), error=None, interrupts=(), state=None, result={'topic': 'pasta'}),), interrupts=())]"
      ]
     },
     "execution_count": 21,
     "metadata": {},
     "output_type": "execute_result"
    }
   ],
   "source": [
    "list(workflow.get_state_history(config2))"
   ]
  },
  {
   "cell_type": "code",
   "execution_count": null,
   "id": "f8f2d618",
   "metadata": {},
   "outputs": [],
   "source": []
  }
 ],
 "metadata": {
  "kernelspec": {
   "display_name": "langgraph_tutorials",
   "language": "python",
   "name": "python3"
  },
  "language_info": {
   "codemirror_mode": {
    "name": "ipython",
    "version": 3
   },
   "file_extension": ".py",
   "mimetype": "text/x-python",
   "name": "python",
   "nbconvert_exporter": "python",
   "pygments_lexer": "ipython3",
   "version": "3.13.1"
  }
 },
 "nbformat": 4,
 "nbformat_minor": 5
}
