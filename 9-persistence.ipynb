{
 "cells": [
  {
   "cell_type": "code",
   "execution_count": 8,
   "id": "1e644be3",
   "metadata": {},
   "outputs": [
    {
     "data": {
      "text/plain": [
       "True"
      ]
     },
     "execution_count": 8,
     "metadata": {},
     "output_type": "execute_result"
    }
   ],
   "source": [
    "from langgraph.graph import StateGraph, START, END\n",
    "from typing import TypedDict, Annotated\n",
    "from langchain_core.messages import BaseMessage, HumanMessage\n",
    "from langchain_groq import ChatGroq\n",
    "from dotenv import load_dotenv\n",
    "from langgraph.checkpoint.memory import InMemorySaver\n",
    "from langgraph.graph.message import add_messages\n",
    "load_dotenv()"
   ]
  },
  {
   "cell_type": "code",
   "execution_count": 9,
   "id": "3d038c1f",
   "metadata": {},
   "outputs": [],
   "source": [
    "llm = ChatGroq(model=\"llama-3.1-8b-instant\")"
   ]
  },
  {
   "cell_type": "code",
   "execution_count": 10,
   "id": "fb56c7b2",
   "metadata": {},
   "outputs": [],
   "source": [
    "class JokeState(TypedDict):\n",
    "    topic: str\n",
    "    joke: str\n",
    "    explanation: str"
   ]
  },
  {
   "cell_type": "code",
   "execution_count": 11,
   "id": "e329c9ce",
   "metadata": {},
   "outputs": [],
   "source": [
    "def generate_joke(state: JokeState):\n",
    "\n",
    "    prompt = f'generate a joke on the topic {state[\"topic\"]}'\n",
    "    response = llm.invoke(prompt).content\n",
    "\n",
    "    return {'joke': response}"
   ]
  },
  {
   "cell_type": "code",
   "execution_count": 12,
   "id": "f46dfbf6",
   "metadata": {},
   "outputs": [],
   "source": [
    "def generate_explanation(state: JokeState):\n",
    "\n",
    "    prompt = f'write an explanation for the joke - {state[\"joke\"]}'\n",
    "    response = llm.invoke(prompt).content\n",
    "\n",
    "    return {'explanation': response}"
   ]
  },
  {
   "cell_type": "code",
   "execution_count": 14,
   "id": "b1b24a9e",
   "metadata": {},
   "outputs": [
    {
     "data": {
      "image/png": "[encoded data removed]",
      "text/plain": [
       "<langgraph.graph.state.CompiledStateGraph object at 0x0000021860D01810>"
      ]
     },
     "execution_count": 14,
     "metadata": {},
     "output_type": "execute_result"
    }
   ],
   "source": [
    "graph = StateGraph(JokeState)\n",
    "\n",
    "graph.add_node('generate_joke', generate_joke)\n",
    "graph.add_node('generate_explanation', generate_explanation)\n",
    "\n",
    "graph.add_edge(START, 'generate_joke')\n",
    "graph.add_edge('generate_joke', 'generate_explanation')\n",
    "graph.add_edge('generate_explanation', END)\n",
    "\n",
    "checkpointer = InMemorySaver()\n",
    "\n",
    "workflow = graph.compile(checkpointer=checkpointer)\n",
    "workflow"
   ]
  },
  {
   "cell_type": "code",
   "execution_count": 15,
   "id": "1c916b85",
   "metadata": {},
   "outputs": [
    {
     "data": {
      "text/plain": [
       "{'topic': 'cats',\n",
       " 'joke': 'Why did the cat join a band? \\n\\nBecause it wanted to be the purr-cussionist.',\n",
       " 'explanation': 'The joke is a play on words. The punchline \"purr-cussionist\" is a pun on the word \"percussionist,\" which is a type of musician who plays percussion instruments, such as drums. However, \"purr-cussionist\" incorporates the sound a cat makes, a \"purr,\" to create a cat-themed pun.\\n\\nThe joke requires a basic understanding of music and the role of a percussionist, as well as familiarity with cat sounds and behavior. The humor comes from the unexpected twist on the word \"percussionist\" and the clever way it incorporates the cat\\'s purring sound, creating a clever and punny connection between the cat and its potential role in the band.'}"
      ]
     },
     "execution_count": 15,
     "metadata": {},
     "output_type": "execute_result"
    }
   ],
   "source": [
    "config = {\"configurable\": {\"thread_id\": \"1\"}}\n",
    "\n",
    "workflow.invoke({'topic': 'cats'}, config=config)"
   ]
  },
  {
   "cell_type": "code",
   "execution_count": 16,
   "id": "1d2ca7c9",
   "metadata": {},
   "outputs": [
    {
     "data": {
      "text/plain": [
       "StateSnapshot(values={'topic': 'cats', 'joke': 'Why did the cat join a band? \\n\\nBecause it wanted to be the purr-cussionist.', 'explanation': 'The joke is a play on words. The punchline \"purr-cussionist\" is a pun on the word \"percussionist,\" which is a type of musician who plays percussion instruments, such as drums. However, \"purr-cussionist\" incorporates the sound a cat makes, a \"purr,\" to create a cat-themed pun.\\n\\nThe joke requires a basic understanding of music and the role of a percussionist, as well as familiarity with cat sounds and behavior. The humor comes from the unexpected twist on the word \"percussionist\" and the clever way it incorporates the cat\\'s purring sound, creating a clever and punny connection between the cat and its potential role in the band.'}, next=(), config={'configurable': {'thread_id': '1', 'checkpoint_ns': '', 'checkpoint_id': '1f074467-23ef-6cb5-8002-001f80c190e5'}}, metadata={'source': 'loop', 'step': 2, 'parents': {}, 'thread_id': '1'}, created_at='2025-08-08T10:57:16.174839+00:00', parent_config={'configurable': {'thread_id': '1', 'checkpoint_ns': '', 'checkpoint_id': '1f074467-2020-69aa-8001-acae70289a36'}}, tasks=(), interrupts=())"
      ]
     },
     "execution_count": 16,
     "metadata": {},
     "output_type": "execute_result"
    }
   ],
   "source": [
    "workflow.get_state(config)"
   ]
  },
  {
   "cell_type": "code",
   "execution_count": 17,
   "id": "39ce8ce8",
   "metadata": {},
   "outputs": [
    {
     "data": {
      "text/plain": [
       "[StateSnapshot(values={'topic': 'cats', 'joke': 'Why did the cat join a band? \\n\\nBecause it wanted to be the purr-cussionist.', 'explanation': 'The joke is a play on words. The punchline \"purr-cussionist\" is a pun on the word \"percussionist,\" which is a type of musician who plays percussion instruments, such as drums. However, \"purr-cussionist\" incorporates the sound a cat makes, a \"purr,\" to create a cat-themed pun.\\n\\nThe joke requires a basic understanding of music and the role of a percussionist, as well as familiarity with cat sounds and behavior. The humor comes from the unexpected twist on the word \"percussionist\" and the clever way it incorporates the cat\\'s purring sound, creating a clever and punny connection between the cat and its potential role in the band.'}, next=(), config={'configurable': {'thread_id': '1', 'checkpoint_ns': '', 'checkpoint_id': '1f074467-23ef-6cb5-8002-001f80c190e5'}}, metadata={'source': 'loop', 'step': 2, 'parents': {}, 'thread_id': '1'}, created_at='2025-08-08T10:57:16.174839+00:00', parent_config={'configurable': {'thread_id': '1', 'checkpoint_ns': '', 'checkpoint_id': '1f074467-2020-69aa-8001-acae70289a36'}}, tasks=(), interrupts=()),\n",
       " StateSnapshot(values={'topic': 'cats', 'joke': 'Why did the cat join a band? \\n\\nBecause it wanted to be the purr-cussionist.'}, next=('generate_explanation',), config={'configurable': {'thread_id': '1', 'checkpoint_ns': '', 'checkpoint_id': '1f074467-2020-69aa-8001-acae70289a36'}}, metadata={'source': 'loop', 'step': 1, 'parents': {}, 'thread_id': '1'}, created_at='2025-08-08T10:57:15.775412+00:00', parent_config={'configurable': {'thread_id': '1', 'checkpoint_ns': '', 'checkpoint_id': '1f074467-08fd-6549-8000-407da77d27d0'}}, tasks=(PregelTask(id='700e835f-6862-59e2-8485-b0aa3133054d', name='generate_explanation', path=('__pregel_pull', 'generate_explanation'), error=None, interrupts=(), state=None, result={'explanation': 'The joke is a play on words. The punchline \"purr-cussionist\" is a pun on the word \"percussionist,\" which is a type of musician who plays percussion instruments, such as drums. However, \"purr-cussionist\" incorporates the sound a cat makes, a \"purr,\" to create a cat-themed pun.\\n\\nThe joke requires a basic understanding of music and the role of a percussionist, as well as familiarity with cat sounds and behavior. The humor comes from the unexpected twist on the word \"percussionist\" and the clever way it incorporates the cat\\'s purring sound, creating a clever and punny connection between the cat and its potential role in the band.'}),), interrupts=()),\n",
       " StateSnapshot(values={'topic': 'cats'}, next=('generate_joke',), config={'configurable': {'thread_id': '1', 'checkpoint_ns': '', 'checkpoint_id': '1f074467-08fd-6549-8000-407da77d27d0'}}, metadata={'source': 'loop', 'step': 0, 'parents': {}, 'thread_id': '1'}, created_at='2025-08-08T10:57:13.349236+00:00', parent_config={'configurable': {'thread_id': '1', 'checkpoint_ns': '', 'checkpoint_id': '1f074467-05aa-6aa1-bfff-9ece3da11ad3'}}, tasks=(PregelTask(id='a1b2c9e7-fafc-bbab-329b-190258fffa90', name='generate_joke', path=('__pregel_pull', 'generate_joke'), error=None, interrupts=(), state=None, result={'joke': 'Why did the cat join a band? \\n\\nBecause it wanted to be the purr-cussionist.'}),), interrupts=()),\n",
       " StateSnapshot(values={}, next=('__start__',), config={'configurable': {'thread_id': '1', 'checkpoint_ns': '', 'checkpoint_id': '1f074467-05aa-6aa1-bfff-9ece3da11ad3'}}, metadata={'source': 'input', 'step': -1, 'parents': {}, 'thread_id': '1'}, created_at='2025-08-08T10:57:13.000797+00:00', parent_config=None, tasks=(PregelTask(id='7d3fc649-f667-1c01-7719-79efcb9f9e54', name='__start__', path=('__pregel_pull', '__start__'), error=None, interrupts=(), state=None, result={'topic': 'cats'}),), interrupts=())]"
      ]
     },
     "execution_count": 17,
     "metadata": {},
     "output_type": "execute_result"
    }
   ],
   "source": [
    "list(workflow.get_state_history(config))"
   ]
  },
  {
   "cell_type": "code",
   "execution_count": 18,
   "id": "a71876b4",
   "metadata": {},
   "outputs": [
    {
     "data": {
      "text/plain": [
       "{'topic': 'pasta',\n",
       " 'joke': 'Why did the spaghetti go to therapy? \\n\\nBecause it was feeling a little \"twisted\" and had a lot of \"saucy\" issues to work through.',\n",
       " 'explanation': 'The joke is a play on words, using puns to create a humorous effect. Here\\'s a breakdown of the explanation:\\n\\n- \"Twisted\" is a common phrase that can mean a person is feeling a bit confused, anxious, or upset. In this context, it\\'s used to describe the spaghetti, which is literally twisted or tangled, referencing its curly shape. This double meaning creates a clever wordplay.\\n\\n- \"Saucy\" is a colloquial term used to describe someone or something that\\'s a bit cheeky or flirtatious. However, in this joke, it\\'s also a reference to the fact that spaghetti is typically served with a tomato-based sauce. This pun connects the word \"saucy\" to the food item, the spaghetti.\\n\\nBy combining these two puns, the joke creates a clever and unexpected connection between the setup (\"spaghetti went to therapy\") and the punchline (\"feeling a little twisted\" and \"had a lot of saucy issues\"). The humor comes from the clever use of language and the unexpected twist on the usual meaning of the words.'}"
      ]
     },
     "execution_count": 18,
     "metadata": {},
     "output_type": "execute_result"
    }
   ],
   "source": [
    "config2 = {\"configurable\": {\"thread_id\": \"2\"}}\n",
    "workflow.invoke({'topic':'pasta'}, config=config2)"
   ]
  },
  {
   "cell_type": "code",
   "execution_count": 19,
   "id": "7d106a46",
   "metadata": {},
   "outputs": [
    {
     "data": {
      "text/plain": [
       "StateSnapshot(values={'topic': 'pasta', 'joke': 'Why did the spaghetti go to therapy? \\n\\nBecause it was feeling a little \"twisted\" and had a lot of \"saucy\" issues to work through.', 'explanation': 'The joke is a play on words, using puns to create a humorous effect. Here\\'s a breakdown of the explanation:\\n\\n- \"Twisted\" is a common phrase that can mean a person is feeling a bit confused, anxious, or upset. In this context, it\\'s used to describe the spaghetti, which is literally twisted or tangled, referencing its curly shape. This double meaning creates a clever wordplay.\\n\\n- \"Saucy\" is a colloquial term used to describe someone or something that\\'s a bit cheeky or flirtatious. However, in this joke, it\\'s also a reference to the fact that spaghetti is typically served with a tomato-based sauce. This pun connects the word \"saucy\" to the food item, the spaghetti.\\n\\nBy combining these two puns, the joke creates a clever and unexpected connection between the setup (\"spaghetti went to therapy\") and the punchline (\"feeling a little twisted\" and \"had a lot of saucy issues\"). The humor comes from the clever use of language and the unexpected twist on the usual meaning of the words.'}, next=(), config={'configurable': {'thread_id': '2', 'checkpoint_ns': '', 'checkpoint_id': '1f07446b-74ce-6c43-8002-1c6bf5c03e96'}}, metadata={'source': 'loop', 'step': 2, 'parents': {}, 'thread_id': '2'}, created_at='2025-08-08T10:59:12.028968+00:00', parent_config={'configurable': {'thread_id': '2', 'checkpoint_ns': '', 'checkpoint_id': '1f07446b-7040-63b5-8001-76b525b8c7bf'}}, tasks=(), interrupts=())"
      ]
     },
     "execution_count": 19,
     "metadata": {},
     "output_type": "execute_result"
    }
   ],
   "source": [
    "workflow.get_state(config2)"
   ]
  },
  {
   "cell_type": "code",
   "execution_count": 21,
   "id": "ff3e258e",
   "metadata": {},
   "outputs": [
    {
     "data": {
      "text/plain": [
       "[StateSnapshot(values={'topic': 'pasta', 'joke': 'Why did the spaghetti go to therapy? \\n\\nBecause it was feeling a little \"twisted\" and had a lot of \"saucy\" issues to work through.', 'explanation': 'The joke is a play on words, using puns to create a humorous effect. Here\\'s a breakdown of the explanation:\\n\\n- \"Twisted\" is a common phrase that can mean a person is feeling a bit confused, anxious, or upset. In this context, it\\'s used to describe the spaghetti, which is literally twisted or tangled, referencing its curly shape. This double meaning creates a clever wordplay.\\n\\n- \"Saucy\" is a colloquial term used to describe someone or something that\\'s a bit cheeky or flirtatious. However, in this joke, it\\'s also a reference to the fact that spaghetti is typically served with a tomato-based sauce. This pun connects the word \"saucy\" to the food item, the spaghetti.\\n\\nBy combining these two puns, the joke creates a clever and unexpected connection between the setup (\"spaghetti went to therapy\") and the punchline (\"feeling a little twisted\" and \"had a lot of saucy issues\"). The humor comes from the clever use of language and the unexpected twist on the usual meaning of the words.'}, next=(), config={'configurable': {'thread_id': '2', 'checkpoint_ns': '', 'checkpoint_id': '1f07446b-74ce-6c43-8002-1c6bf5c03e96'}}, metadata={'source': 'loop', 'step': 2, 'parents': {}, 'thread_id': '2'}, created_at='2025-08-08T10:59:12.028968+00:00', parent_config={'configurable': {'thread_id': '2', 'checkpoint_ns': '', 'checkpoint_id': '1f07446b-7040-63b5-8001-76b525b8c7bf'}}, tasks=(), interrupts=()),\n",
       " StateSnapshot(values={'topic': 'pasta', 'joke': 'Why did the spaghetti go to therapy? \\n\\nBecause it was feeling a little \"twisted\" and had a lot of \"saucy\" issues to work through.'}, next=('generate_explanation',), config={'configurable': {'thread_id': '2', 'checkpoint_ns': '', 'checkpoint_id': '1f07446b-7040-63b5-8001-76b525b8c7bf'}}, metadata={'source': 'loop', 'step': 1, 'parents': {}, 'thread_id': '2'}, created_at='2025-08-08T10:59:11.551155+00:00', parent_config={'configurable': {'thread_id': '2', 'checkpoint_ns': '', 'checkpoint_id': '1f07446b-6adc-63e7-8000-1ab137f2be85'}}, tasks=(PregelTask(id='0faab8a8-db01-c770-cef1-b2a74ca2b4b1', name='generate_explanation', path=('__pregel_pull', 'generate_explanation'), error=None, interrupts=(), state=None, result={'explanation': 'The joke is a play on words, using puns to create a humorous effect. Here\\'s a breakdown of the explanation:\\n\\n- \"Twisted\" is a common phrase that can mean a person is feeling a bit confused, anxious, or upset. In this context, it\\'s used to describe the spaghetti, which is literally twisted or tangled, referencing its curly shape. This double meaning creates a clever wordplay.\\n\\n- \"Saucy\" is a colloquial term used to describe someone or something that\\'s a bit cheeky or flirtatious. However, in this joke, it\\'s also a reference to the fact that spaghetti is typically served with a tomato-based sauce. This pun connects the word \"saucy\" to the food item, the spaghetti.\\n\\nBy combining these two puns, the joke creates a clever and unexpected connection between the setup (\"spaghetti went to therapy\") and the punchline (\"feeling a little twisted\" and \"had a lot of saucy issues\"). The humor comes from the clever use of language and the unexpected twist on the usual meaning of the words.'}),), interrupts=()),\n",
       " StateSnapshot(values={'topic': 'pasta'}, next=('generate_joke',), config={'configurable': {'thread_id': '2', 'checkpoint_ns': '', 'checkpoint_id': '1f07446b-6adc-63e7-8000-1ab137f2be85'}}, metadata={'source': 'loop', 'step': 0, 'parents': {}, 'thread_id': '2'}, created_at='2025-08-08T10:59:10.985915+00:00', parent_config={'configurable': {'thread_id': '2', 'checkpoint_ns': '', 'checkpoint_id': '1f07446b-6ada-6143-bfff-301655144f36'}}, tasks=(PregelTask(id='28d4551d-3156-adf1-69df-1a9a35812e10', name='generate_joke', path=('__pregel_pull', 'generate_joke'), error=None, interrupts=(), state=None, result={'joke': 'Why did the spaghetti go to therapy? \\n\\nBecause it was feeling a little \"twisted\" and had a lot of \"saucy\" issues to work through.'}),), interrupts=()),\n",
       " StateSnapshot(values={}, next=('__start__',), config={'configurable': {'thread_id': '2', 'checkpoint_ns': '', 'checkpoint_id': '1f07446b-6ada-6143-bfff-301655144f36'}}, metadata={'source': 'input', 'step': -1, 'parents': {}, 'thread_id': '2'}, created_at='2025-08-08T10:59:10.985034+00:00', parent_config=None, tasks=(PregelTask(id='756f4bec-4cbf-36ea-67a7-073714abf911', name='__start__', path=('__pregel_pull', '__start__'), error=None, interrupts=(), state=None, result={'topic': 'pasta'}),), interrupts=())]"
      ]
     },
     "execution_count": 21,
     "metadata": {},
     "output_type": "execute_result"
    }
   ],
   "source": [
    "list(workflow.get_state_history(config2))"
   ]
  },
  {
   "cell_type": "markdown",
   "id": "b03ba764",
   "metadata": {},
   "source": [
    "### Time Travel"
   ]
  },
  {
   "cell_type": "code",
   "execution_count": 22,
   "id": "f8f2d618",
   "metadata": {},
   "outputs": [
    {
     "data": {
      "text/plain": [
       "StateSnapshot(values={'topic': 'cats', 'joke': 'Why did the cat join a band? \\n\\nBecause it wanted to be the purr-cussionist.'}, next=('generate_explanation',), config={'configurable': {'thread_id': '1', 'checkpoint_id': '1f074467-2020-69aa-8001-acae70289a36'}}, metadata={'source': 'loop', 'step': 1, 'parents': {}, 'thread_id': '1'}, created_at='2025-08-08T10:57:15.775412+00:00', parent_config={'configurable': {'thread_id': '1', 'checkpoint_ns': '', 'checkpoint_id': '1f074467-08fd-6549-8000-407da77d27d0'}}, tasks=(PregelTask(id='700e835f-6862-59e2-8485-b0aa3133054d', name='generate_explanation', path=('__pregel_pull', 'generate_explanation'), error=None, interrupts=(), state=None, result={'explanation': 'The joke is a play on words. The punchline \"purr-cussionist\" is a pun on the word \"percussionist,\" which is a type of musician who plays percussion instruments, such as drums. However, \"purr-cussionist\" incorporates the sound a cat makes, a \"purr,\" to create a cat-themed pun.\\n\\nThe joke requires a basic understanding of music and the role of a percussionist, as well as familiarity with cat sounds and behavior. The humor comes from the unexpected twist on the word \"percussionist\" and the clever way it incorporates the cat\\'s purring sound, creating a clever and punny connection between the cat and its potential role in the band.'}),), interrupts=())"
      ]
     },
     "execution_count": 22,
     "metadata": {},
     "output_type": "execute_result"
    }
   ],
   "source": [
    "workflow.get_state({\"configurable\": {\"thread_id\": \"1\", \"checkpoint_id\": \"1f074467-2020-69aa-8001-acae70289a36\"}})"
   ]
  },
  {
   "cell_type": "code",
   "execution_count": 23,
   "id": "1279593a",
   "metadata": {},
   "outputs": [
    {
     "data": {
      "text/plain": [
       "{'topic': 'cats',\n",
       " 'joke': 'Why did the cat join a band? \\n\\nBecause it wanted to be the purr-cussionist.',\n",
       " 'explanation': 'The joke relies on a play on words. The word \"purr-cussionist\" sounds similar to the word \"percussionist,\" which is a term used to describe a musician who plays percussion instruments, such as drums or cymbals.\\n\\nHowever, the word \"purr-cussionist\" is also a pun because it incorporates the characteristic sound cats make, known as a purr, into the word. This wordplay creates a clever connection between the cat\\'s identity as a feline and its desire to join a band as a percussionist.\\n\\nThe joke\\'s humor comes from the unexpected twist on the typical term \"percussionist\" and the clever use of language to incorporate the cat\\'s unique sound, making it a lighthearted and amusing play on words.'}"
      ]
     },
     "execution_count": 23,
     "metadata": {},
     "output_type": "execute_result"
    }
   ],
   "source": [
    "workflow.invoke(None, {\"configurable\": {\"thread_id\": \"1\", \"checkpoint_id\": \"1f074467-2020-69aa-8001-acae70289a36\"}})"
   ]
  },
  {
   "cell_type": "code",
   "execution_count": 24,
   "id": "f734a9ef",
   "metadata": {},
   "outputs": [
    {
     "data": {
      "text/plain": [
       "[StateSnapshot(values={'topic': 'cats', 'joke': 'Why did the cat join a band? \\n\\nBecause it wanted to be the purr-cussionist.', 'explanation': 'The joke relies on a play on words. The word \"purr-cussionist\" sounds similar to the word \"percussionist,\" which is a term used to describe a musician who plays percussion instruments, such as drums or cymbals.\\n\\nHowever, the word \"purr-cussionist\" is also a pun because it incorporates the characteristic sound cats make, known as a purr, into the word. This wordplay creates a clever connection between the cat\\'s identity as a feline and its desire to join a band as a percussionist.\\n\\nThe joke\\'s humor comes from the unexpected twist on the typical term \"percussionist\" and the clever use of language to incorporate the cat\\'s unique sound, making it a lighthearted and amusing play on words.'}, next=(), config={'configurable': {'thread_id': '1', 'checkpoint_ns': '', 'checkpoint_id': '1f07447d-637f-60bd-8002-8feca2408573'}}, metadata={'source': 'loop', 'step': 2, 'parents': {}, 'thread_id': '1'}, created_at='2025-08-08T11:07:13.397534+00:00', parent_config={'configurable': {'thread_id': '1', 'checkpoint_ns': '', 'checkpoint_id': '1f074467-2020-69aa-8001-acae70289a36'}}, tasks=(), interrupts=()),\n",
       " StateSnapshot(values={'topic': 'cats', 'joke': 'Why did the cat join a band? \\n\\nBecause it wanted to be the purr-cussionist.', 'explanation': 'The joke is a play on words. The punchline \"purr-cussionist\" is a pun on the word \"percussionist,\" which is a type of musician who plays percussion instruments, such as drums. However, \"purr-cussionist\" incorporates the sound a cat makes, a \"purr,\" to create a cat-themed pun.\\n\\nThe joke requires a basic understanding of music and the role of a percussionist, as well as familiarity with cat sounds and behavior. The humor comes from the unexpected twist on the word \"percussionist\" and the clever way it incorporates the cat\\'s purring sound, creating a clever and punny connection between the cat and its potential role in the band.'}, next=(), config={'configurable': {'thread_id': '1', 'checkpoint_ns': '', 'checkpoint_id': '1f074467-23ef-6cb5-8002-001f80c190e5'}}, metadata={'source': 'loop', 'step': 2, 'parents': {}, 'thread_id': '1'}, created_at='2025-08-08T10:57:16.174839+00:00', parent_config={'configurable': {'thread_id': '1', 'checkpoint_ns': '', 'checkpoint_id': '1f074467-2020-69aa-8001-acae70289a36'}}, tasks=(), interrupts=()),\n",
       " StateSnapshot(values={'topic': 'cats', 'joke': 'Why did the cat join a band? \\n\\nBecause it wanted to be the purr-cussionist.'}, next=('generate_explanation',), config={'configurable': {'thread_id': '1', 'checkpoint_ns': '', 'checkpoint_id': '1f074467-2020-69aa-8001-acae70289a36'}}, metadata={'source': 'loop', 'step': 1, 'parents': {}, 'thread_id': '1'}, created_at='2025-08-08T10:57:15.775412+00:00', parent_config={'configurable': {'thread_id': '1', 'checkpoint_ns': '', 'checkpoint_id': '1f074467-08fd-6549-8000-407da77d27d0'}}, tasks=(PregelTask(id='700e835f-6862-59e2-8485-b0aa3133054d', name='generate_explanation', path=('__pregel_pull', 'generate_explanation'), error=None, interrupts=(), state=None, result={'explanation': 'The joke is a play on words. The punchline \"purr-cussionist\" is a pun on the word \"percussionist,\" which is a type of musician who plays percussion instruments, such as drums. However, \"purr-cussionist\" incorporates the sound a cat makes, a \"purr,\" to create a cat-themed pun.\\n\\nThe joke requires a basic understanding of music and the role of a percussionist, as well as familiarity with cat sounds and behavior. The humor comes from the unexpected twist on the word \"percussionist\" and the clever way it incorporates the cat\\'s purring sound, creating a clever and punny connection between the cat and its potential role in the band.'}),), interrupts=()),\n",
       " StateSnapshot(values={'topic': 'cats'}, next=('generate_joke',), config={'configurable': {'thread_id': '1', 'checkpoint_ns': '', 'checkpoint_id': '1f074467-08fd-6549-8000-407da77d27d0'}}, metadata={'source': 'loop', 'step': 0, 'parents': {}, 'thread_id': '1'}, created_at='2025-08-08T10:57:13.349236+00:00', parent_config={'configurable': {'thread_id': '1', 'checkpoint_ns': '', 'checkpoint_id': '1f074467-05aa-6aa1-bfff-9ece3da11ad3'}}, tasks=(PregelTask(id='a1b2c9e7-fafc-bbab-329b-190258fffa90', name='generate_joke', path=('__pregel_pull', 'generate_joke'), error=None, interrupts=(), state=None, result={'joke': 'Why did the cat join a band? \\n\\nBecause it wanted to be the purr-cussionist.'}),), interrupts=()),\n",
       " StateSnapshot(values={}, next=('__start__',), config={'configurable': {'thread_id': '1', 'checkpoint_ns': '', 'checkpoint_id': '1f074467-05aa-6aa1-bfff-9ece3da11ad3'}}, metadata={'source': 'input', 'step': -1, 'parents': {}, 'thread_id': '1'}, created_at='2025-08-08T10:57:13.000797+00:00', parent_config=None, tasks=(PregelTask(id='7d3fc649-f667-1c01-7719-79efcb9f9e54', name='__start__', path=('__pregel_pull', '__start__'), error=None, interrupts=(), state=None, result={'topic': 'cats'}),), interrupts=())]"
      ]
     },
     "execution_count": 24,
     "metadata": {},
     "output_type": "execute_result"
    }
   ],
   "source": [
    "list(workflow.get_state_history(config))"
   ]
  },
  {
   "cell_type": "markdown",
   "id": "e50cad2b",
   "metadata": {},
   "source": [
    "### Updating State"
   ]
  },
  {
   "cell_type": "code",
   "execution_count": 25,
   "id": "737ea72c",
   "metadata": {},
   "outputs": [
    {
     "data": {
      "text/plain": [
       "{'configurable': {'thread_id': '1',\n",
       "  'checkpoint_ns': '',\n",
       "  'checkpoint_id': '1f074481-1b4f-6b78-8001-1ee772f966ed'}}"
      ]
     },
     "execution_count": 25,
     "metadata": {},
     "output_type": "execute_result"
    }
   ],
   "source": [
    "workflow.update_state({\"configurable\": {\"thread_id\": \"1\", \"checkpoint_id\": \"1f074467-08fd-6549-8000-407da77d27d0\", \"checkpoint_ns\": \"\"}}, {'topic':'dogs'})"
   ]
  },
  {
   "cell_type": "code",
   "execution_count": 26,
   "id": "7bde8dcf",
   "metadata": {},
   "outputs": [
    {
     "data": {
      "text/plain": [
       "[StateSnapshot(values={'topic': 'dogs'}, next=('generate_joke',), config={'configurable': {'thread_id': '1', 'checkpoint_ns': '', 'checkpoint_id': '1f074481-1b4f-6b78-8001-1ee772f966ed'}}, metadata={'source': 'update', 'step': 1, 'parents': {}, 'thread_id': '1'}, created_at='2025-08-08T11:08:53.202603+00:00', parent_config={'configurable': {'thread_id': '1', 'checkpoint_ns': '', 'checkpoint_id': '1f074467-08fd-6549-8000-407da77d27d0'}}, tasks=(PregelTask(id='cc4990ec-5505-4a03-da7d-28a73f36517b', name='generate_joke', path=('__pregel_pull', 'generate_joke'), error=None, interrupts=(), state=None, result=None),), interrupts=()),\n",
       " StateSnapshot(values={'topic': 'cats', 'joke': 'Why did the cat join a band? \\n\\nBecause it wanted to be the purr-cussionist.', 'explanation': 'The joke relies on a play on words. The word \"purr-cussionist\" sounds similar to the word \"percussionist,\" which is a term used to describe a musician who plays percussion instruments, such as drums or cymbals.\\n\\nHowever, the word \"purr-cussionist\" is also a pun because it incorporates the characteristic sound cats make, known as a purr, into the word. This wordplay creates a clever connection between the cat\\'s identity as a feline and its desire to join a band as a percussionist.\\n\\nThe joke\\'s humor comes from the unexpected twist on the typical term \"percussionist\" and the clever use of language to incorporate the cat\\'s unique sound, making it a lighthearted and amusing play on words.'}, next=(), config={'configurable': {'thread_id': '1', 'checkpoint_ns': '', 'checkpoint_id': '1f07447d-637f-60bd-8002-8feca2408573'}}, metadata={'source': 'loop', 'step': 2, 'parents': {}, 'thread_id': '1'}, created_at='2025-08-08T11:07:13.397534+00:00', parent_config={'configurable': {'thread_id': '1', 'checkpoint_ns': '', 'checkpoint_id': '1f074467-2020-69aa-8001-acae70289a36'}}, tasks=(), interrupts=()),\n",
       " StateSnapshot(values={'topic': 'cats', 'joke': 'Why did the cat join a band? \\n\\nBecause it wanted to be the purr-cussionist.', 'explanation': 'The joke is a play on words. The punchline \"purr-cussionist\" is a pun on the word \"percussionist,\" which is a type of musician who plays percussion instruments, such as drums. However, \"purr-cussionist\" incorporates the sound a cat makes, a \"purr,\" to create a cat-themed pun.\\n\\nThe joke requires a basic understanding of music and the role of a percussionist, as well as familiarity with cat sounds and behavior. The humor comes from the unexpected twist on the word \"percussionist\" and the clever way it incorporates the cat\\'s purring sound, creating a clever and punny connection between the cat and its potential role in the band.'}, next=(), config={'configurable': {'thread_id': '1', 'checkpoint_ns': '', 'checkpoint_id': '1f074467-23ef-6cb5-8002-001f80c190e5'}}, metadata={'source': 'loop', 'step': 2, 'parents': {}, 'thread_id': '1'}, created_at='2025-08-08T10:57:16.174839+00:00', parent_config={'configurable': {'thread_id': '1', 'checkpoint_ns': '', 'checkpoint_id': '1f074467-2020-69aa-8001-acae70289a36'}}, tasks=(), interrupts=()),\n",
       " StateSnapshot(values={'topic': 'cats', 'joke': 'Why did the cat join a band? \\n\\nBecause it wanted to be the purr-cussionist.'}, next=('generate_explanation',), config={'configurable': {'thread_id': '1', 'checkpoint_ns': '', 'checkpoint_id': '1f074467-2020-69aa-8001-acae70289a36'}}, metadata={'source': 'loop', 'step': 1, 'parents': {}, 'thread_id': '1'}, created_at='2025-08-08T10:57:15.775412+00:00', parent_config={'configurable': {'thread_id': '1', 'checkpoint_ns': '', 'checkpoint_id': '1f074467-08fd-6549-8000-407da77d27d0'}}, tasks=(PregelTask(id='700e835f-6862-59e2-8485-b0aa3133054d', name='generate_explanation', path=('__pregel_pull', 'generate_explanation'), error=None, interrupts=(), state=None, result={'explanation': 'The joke is a play on words. The punchline \"purr-cussionist\" is a pun on the word \"percussionist,\" which is a type of musician who plays percussion instruments, such as drums. However, \"purr-cussionist\" incorporates the sound a cat makes, a \"purr,\" to create a cat-themed pun.\\n\\nThe joke requires a basic understanding of music and the role of a percussionist, as well as familiarity with cat sounds and behavior. The humor comes from the unexpected twist on the word \"percussionist\" and the clever way it incorporates the cat\\'s purring sound, creating a clever and punny connection between the cat and its potential role in the band.'}),), interrupts=()),\n",
       " StateSnapshot(values={'topic': 'cats'}, next=('generate_joke',), config={'configurable': {'thread_id': '1', 'checkpoint_ns': '', 'checkpoint_id': '1f074467-08fd-6549-8000-407da77d27d0'}}, metadata={'source': 'loop', 'step': 0, 'parents': {}, 'thread_id': '1'}, created_at='2025-08-08T10:57:13.349236+00:00', parent_config={'configurable': {'thread_id': '1', 'checkpoint_ns': '', 'checkpoint_id': '1f074467-05aa-6aa1-bfff-9ece3da11ad3'}}, tasks=(PregelTask(id='a1b2c9e7-fafc-bbab-329b-190258fffa90', name='generate_joke', path=('__pregel_pull', 'generate_joke'), error=None, interrupts=(), state=None, result={'joke': 'Why did the cat join a band? \\n\\nBecause it wanted to be the purr-cussionist.'}),), interrupts=()),\n",
       " StateSnapshot(values={}, next=('__start__',), config={'configurable': {'thread_id': '1', 'checkpoint_ns': '', 'checkpoint_id': '1f074467-05aa-6aa1-bfff-9ece3da11ad3'}}, metadata={'source': 'input', 'step': -1, 'parents': {}, 'thread_id': '1'}, created_at='2025-08-08T10:57:13.000797+00:00', parent_config=None, tasks=(PregelTask(id='7d3fc649-f667-1c01-7719-79efcb9f9e54', name='__start__', path=('__pregel_pull', '__start__'), error=None, interrupts=(), state=None, result={'topic': 'cats'}),), interrupts=())]"
      ]
     },
     "execution_count": 26,
     "metadata": {},
     "output_type": "execute_result"
    }
   ],
   "source": [
    "list(workflow.get_state_history(config))"
   ]
  },
  {
   "cell_type": "code",
   "execution_count": 28,
   "id": "2e3fcbe1",
   "metadata": {},
   "outputs": [
    {
     "data": {
      "text/plain": [
       "{'topic': 'dogs',\n",
       " 'joke': 'Why did the dog go to the vet? \\n\\nBecause he was feeling a little ruff.',\n",
       " 'explanation': 'This joke is a play on words. The phrase \"feeling a little ruff\" has a double meaning here. \\n\\nIn one sense, \"ruff\" refers to the sound a dog makes, often written as \"ruff ruff.\" So, the phrase \"feeling a little ruff\" could imply that the dog is feeling a bit anxious or upset, as if it\\'s barking or whining.\\n\\nHowever, \"ruff\" also sounds similar to the word \"rough,\" which means uncomfortable or difficult to handle. So, in this context, \"feeling a little ruff\" could also imply that the dog is feeling unwell or uncomfortable.\\n\\nThe punchline of the joke is that the dog went to the vet, suggesting that it was indeed feeling unwell. The wordplay on \"ruff\" creates a pun, which is a form of humor that relies on multiple meanings or sounds of words.'}"
      ]
     },
     "execution_count": 28,
     "metadata": {},
     "output_type": "execute_result"
    }
   ],
   "source": [
    "workflow.invoke(None, {\"configurable\": {\"thread_id\": \"1\", \"checkpoint_id\": \"1f074481-1b4f-6b78-8001-1ee772f966ed\"}})"
   ]
  },
  {
   "cell_type": "code",
   "execution_count": 29,
   "id": "374d027d",
   "metadata": {},
   "outputs": [
    {
     "data": {
      "text/plain": [
       "[StateSnapshot(values={'topic': 'dogs', 'joke': 'Why did the dog go to the vet? \\n\\nBecause he was feeling a little ruff.', 'explanation': 'This joke is a play on words. The phrase \"feeling a little ruff\" has a double meaning here. \\n\\nIn one sense, \"ruff\" refers to the sound a dog makes, often written as \"ruff ruff.\" So, the phrase \"feeling a little ruff\" could imply that the dog is feeling a bit anxious or upset, as if it\\'s barking or whining.\\n\\nHowever, \"ruff\" also sounds similar to the word \"rough,\" which means uncomfortable or difficult to handle. So, in this context, \"feeling a little ruff\" could also imply that the dog is feeling unwell or uncomfortable.\\n\\nThe punchline of the joke is that the dog went to the vet, suggesting that it was indeed feeling unwell. The wordplay on \"ruff\" creates a pun, which is a form of humor that relies on multiple meanings or sounds of words.'}, next=(), config={'configurable': {'thread_id': '1', 'checkpoint_ns': '', 'checkpoint_id': '1f074484-08a6-6d11-8003-e3530fd7693d'}}, metadata={'source': 'loop', 'step': 3, 'parents': {}, 'thread_id': '1'}, created_at='2025-08-08T11:10:11.776619+00:00', parent_config={'configurable': {'thread_id': '1', 'checkpoint_ns': '', 'checkpoint_id': '1f074484-0495-6c45-8002-7fcc3ccf8027'}}, tasks=(), interrupts=()),\n",
       " StateSnapshot(values={'topic': 'dogs', 'joke': 'Why did the dog go to the vet? \\n\\nBecause he was feeling a little ruff.'}, next=('generate_explanation',), config={'configurable': {'thread_id': '1', 'checkpoint_ns': '', 'checkpoint_id': '1f074484-0495-6c45-8002-7fcc3ccf8027'}}, metadata={'source': 'loop', 'step': 2, 'parents': {}, 'thread_id': '1'}, created_at='2025-08-08T11:10:11.350212+00:00', parent_config={'configurable': {'thread_id': '1', 'checkpoint_ns': '', 'checkpoint_id': '1f074481-1b4f-6b78-8001-1ee772f966ed'}}, tasks=(PregelTask(id='d3b54a33-acf9-8424-4834-bb5da2a58641', name='generate_explanation', path=('__pregel_pull', 'generate_explanation'), error=None, interrupts=(), state=None, result={'explanation': 'This joke is a play on words. The phrase \"feeling a little ruff\" has a double meaning here. \\n\\nIn one sense, \"ruff\" refers to the sound a dog makes, often written as \"ruff ruff.\" So, the phrase \"feeling a little ruff\" could imply that the dog is feeling a bit anxious or upset, as if it\\'s barking or whining.\\n\\nHowever, \"ruff\" also sounds similar to the word \"rough,\" which means uncomfortable or difficult to handle. So, in this context, \"feeling a little ruff\" could also imply that the dog is feeling unwell or uncomfortable.\\n\\nThe punchline of the joke is that the dog went to the vet, suggesting that it was indeed feeling unwell. The wordplay on \"ruff\" creates a pun, which is a form of humor that relies on multiple meanings or sounds of words.'}),), interrupts=()),\n",
       " StateSnapshot(values={'topic': 'cats', 'joke': 'Why did the cat join a band? \\n\\nBecause it wanted to be the purr-cussionist.', 'explanation': 'The joke is a play on words, combining a cat\\'s distinctive sound, \"purr,\" with the word \"percussionist,\" which refers to a musician who plays percussion instruments in a band.\\n\\nIn this joke, the cat wants to join a band, but instead of being the typical lead singer or guitarist, it wants to be the person who plays the drums or other percussion instruments. The punchline is a pun, using the word \"purr-cussionist\" to create a clever connection between the cat\\'s characteristic sound and its desired role in the band. The joke relies on this wordplay to create a lighthearted and humorous effect.'}, next=(), config={'configurable': {'thread_id': '1', 'checkpoint_ns': '', 'checkpoint_id': '1f074483-23e5-6916-8002-ba2f6ea88ee2'}}, metadata={'source': 'loop', 'step': 2, 'parents': {}, 'thread_id': '1'}, created_at='2025-08-08T11:09:47.789935+00:00', parent_config={'configurable': {'thread_id': '1', 'checkpoint_ns': '', 'checkpoint_id': '1f074483-20e1-65d7-8001-9271855fabc5'}}, tasks=(), interrupts=()),\n",
       " StateSnapshot(values={'topic': 'cats', 'joke': 'Why did the cat join a band? \\n\\nBecause it wanted to be the purr-cussionist.'}, next=('generate_explanation',), config={'configurable': {'thread_id': '1', 'checkpoint_ns': '', 'checkpoint_id': '1f074483-20e1-65d7-8001-9271855fabc5'}}, metadata={'source': 'loop', 'step': 1, 'parents': {}, 'thread_id': '1'}, created_at='2025-08-08T11:09:47.473643+00:00', parent_config={'configurable': {'thread_id': '1', 'checkpoint_ns': '', 'checkpoint_id': '1f074467-08fd-6549-8000-407da77d27d0'}}, tasks=(PregelTask(id='02083e7b-f790-a0cc-a9ae-b47f02e571c8', name='generate_explanation', path=('__pregel_pull', 'generate_explanation'), error=None, interrupts=(), state=None, result={'explanation': 'The joke is a play on words, combining a cat\\'s distinctive sound, \"purr,\" with the word \"percussionist,\" which refers to a musician who plays percussion instruments in a band.\\n\\nIn this joke, the cat wants to join a band, but instead of being the typical lead singer or guitarist, it wants to be the person who plays the drums or other percussion instruments. The punchline is a pun, using the word \"purr-cussionist\" to create a clever connection between the cat\\'s characteristic sound and its desired role in the band. The joke relies on this wordplay to create a lighthearted and humorous effect.'}),), interrupts=()),\n",
       " StateSnapshot(values={'topic': 'dogs'}, next=('generate_joke',), config={'configurable': {'thread_id': '1', 'checkpoint_ns': '', 'checkpoint_id': '1f074481-1b4f-6b78-8001-1ee772f966ed'}}, metadata={'source': 'update', 'step': 1, 'parents': {}, 'thread_id': '1'}, created_at='2025-08-08T11:08:53.202603+00:00', parent_config={'configurable': {'thread_id': '1', 'checkpoint_ns': '', 'checkpoint_id': '1f074467-08fd-6549-8000-407da77d27d0'}}, tasks=(PregelTask(id='cc4990ec-5505-4a03-da7d-28a73f36517b', name='generate_joke', path=('__pregel_pull', 'generate_joke'), error=None, interrupts=(), state=None, result={'joke': 'Why did the dog go to the vet? \\n\\nBecause he was feeling a little ruff.'}),), interrupts=()),\n",
       " StateSnapshot(values={'topic': 'cats', 'joke': 'Why did the cat join a band? \\n\\nBecause it wanted to be the purr-cussionist.', 'explanation': 'The joke relies on a play on words. The word \"purr-cussionist\" sounds similar to the word \"percussionist,\" which is a term used to describe a musician who plays percussion instruments, such as drums or cymbals.\\n\\nHowever, the word \"purr-cussionist\" is also a pun because it incorporates the characteristic sound cats make, known as a purr, into the word. This wordplay creates a clever connection between the cat\\'s identity as a feline and its desire to join a band as a percussionist.\\n\\nThe joke\\'s humor comes from the unexpected twist on the typical term \"percussionist\" and the clever use of language to incorporate the cat\\'s unique sound, making it a lighthearted and amusing play on words.'}, next=(), config={'configurable': {'thread_id': '1', 'checkpoint_ns': '', 'checkpoint_id': '1f07447d-637f-60bd-8002-8feca2408573'}}, metadata={'source': 'loop', 'step': 2, 'parents': {}, 'thread_id': '1'}, created_at='2025-08-08T11:07:13.397534+00:00', parent_config={'configurable': {'thread_id': '1', 'checkpoint_ns': '', 'checkpoint_id': '1f074467-2020-69aa-8001-acae70289a36'}}, tasks=(), interrupts=()),\n",
       " StateSnapshot(values={'topic': 'cats', 'joke': 'Why did the cat join a band? \\n\\nBecause it wanted to be the purr-cussionist.', 'explanation': 'The joke is a play on words. The punchline \"purr-cussionist\" is a pun on the word \"percussionist,\" which is a type of musician who plays percussion instruments, such as drums. However, \"purr-cussionist\" incorporates the sound a cat makes, a \"purr,\" to create a cat-themed pun.\\n\\nThe joke requires a basic understanding of music and the role of a percussionist, as well as familiarity with cat sounds and behavior. The humor comes from the unexpected twist on the word \"percussionist\" and the clever way it incorporates the cat\\'s purring sound, creating a clever and punny connection between the cat and its potential role in the band.'}, next=(), config={'configurable': {'thread_id': '1', 'checkpoint_ns': '', 'checkpoint_id': '1f074467-23ef-6cb5-8002-001f80c190e5'}}, metadata={'source': 'loop', 'step': 2, 'parents': {}, 'thread_id': '1'}, created_at='2025-08-08T10:57:16.174839+00:00', parent_config={'configurable': {'thread_id': '1', 'checkpoint_ns': '', 'checkpoint_id': '1f074467-2020-69aa-8001-acae70289a36'}}, tasks=(), interrupts=()),\n",
       " StateSnapshot(values={'topic': 'cats', 'joke': 'Why did the cat join a band? \\n\\nBecause it wanted to be the purr-cussionist.'}, next=('generate_explanation',), config={'configurable': {'thread_id': '1', 'checkpoint_ns': '', 'checkpoint_id': '1f074467-2020-69aa-8001-acae70289a36'}}, metadata={'source': 'loop', 'step': 1, 'parents': {}, 'thread_id': '1'}, created_at='2025-08-08T10:57:15.775412+00:00', parent_config={'configurable': {'thread_id': '1', 'checkpoint_ns': '', 'checkpoint_id': '1f074467-08fd-6549-8000-407da77d27d0'}}, tasks=(PregelTask(id='700e835f-6862-59e2-8485-b0aa3133054d', name='generate_explanation', path=('__pregel_pull', 'generate_explanation'), error=None, interrupts=(), state=None, result={'explanation': 'The joke is a play on words. The punchline \"purr-cussionist\" is a pun on the word \"percussionist,\" which is a type of musician who plays percussion instruments, such as drums. However, \"purr-cussionist\" incorporates the sound a cat makes, a \"purr,\" to create a cat-themed pun.\\n\\nThe joke requires a basic understanding of music and the role of a percussionist, as well as familiarity with cat sounds and behavior. The humor comes from the unexpected twist on the word \"percussionist\" and the clever way it incorporates the cat\\'s purring sound, creating a clever and punny connection between the cat and its potential role in the band.'}),), interrupts=()),\n",
       " StateSnapshot(values={'topic': 'cats'}, next=('generate_joke',), config={'configurable': {'thread_id': '1', 'checkpoint_ns': '', 'checkpoint_id': '1f074467-08fd-6549-8000-407da77d27d0'}}, metadata={'source': 'loop', 'step': 0, 'parents': {}, 'thread_id': '1'}, created_at='2025-08-08T10:57:13.349236+00:00', parent_config={'configurable': {'thread_id': '1', 'checkpoint_ns': '', 'checkpoint_id': '1f074467-05aa-6aa1-bfff-9ece3da11ad3'}}, tasks=(PregelTask(id='a1b2c9e7-fafc-bbab-329b-190258fffa90', name='generate_joke', path=('__pregel_pull', 'generate_joke'), error=None, interrupts=(), state=None, result={'joke': 'Why did the cat join a band? \\n\\nBecause it wanted to be the purr-cussionist.'}),), interrupts=()),\n",
       " StateSnapshot(values={}, next=('__start__',), config={'configurable': {'thread_id': '1', 'checkpoint_ns': '', 'checkpoint_id': '1f074467-05aa-6aa1-bfff-9ece3da11ad3'}}, metadata={'source': 'input', 'step': -1, 'parents': {}, 'thread_id': '1'}, created_at='2025-08-08T10:57:13.000797+00:00', parent_config=None, tasks=(PregelTask(id='7d3fc649-f667-1c01-7719-79efcb9f9e54', name='__start__', path=('__pregel_pull', '__start__'), error=None, interrupts=(), state=None, result={'topic': 'cats'}),), interrupts=())]"
      ]
     },
     "execution_count": 29,
     "metadata": {},
     "output_type": "execute_result"
    }
   ],
   "source": [
    "list(workflow.get_state_history(config))"
   ]
  },
  {
   "cell_type": "markdown",
   "id": "3a3cf486",
   "metadata": {},
   "source": [
    "### Fault Tolerance"
   ]
  },
  {
   "cell_type": "code",
   "execution_count": 1,
   "id": "02d9b794",
   "metadata": {},
   "outputs": [],
   "source": [
    "from langgraph.graph import StateGraph, END\n",
    "from langgraph.checkpoint.memory import InMemorySaver\n",
    "from typing import TypedDict\n",
    "import time"
   ]
  },
  {
   "cell_type": "code",
   "execution_count": 2,
   "id": "d5e39cc3",
   "metadata": {},
   "outputs": [],
   "source": [
    "# 1. Define the state\n",
    "class CrashState(TypedDict):\n",
    "    input: str\n",
    "    step1: str\n",
    "    step2: str"
   ]
  },
  {
   "cell_type": "code",
   "execution_count": 3,
   "id": "a2fde660",
   "metadata": {},
   "outputs": [],
   "source": [
    "# 2. Define steps\n",
    "def step_1(state: CrashState) -> CrashState:\n",
    "    print(\"✅ Step 1 executed\")\n",
    "    return {\"step1\": \"done\", \"input\": state[\"input\"]}\n",
    "\n",
    "def step_2(state: CrashState) -> CrashState:\n",
    "    print(\"⏳ Step 2 hanging... now manually interrupt from the notebook toolbar (STOP button)\")\n",
    "    time.sleep(10)  # Simulate long-running hang\n",
    "    return {\"step2\": \"done\"}\n",
    "\n",
    "def step_3(state: CrashState) -> CrashState:\n",
    "    print(\"✅ Step 3 executed\")\n",
    "    return {\"done\": True}"
   ]
  },
  {
   "cell_type": "code",
   "execution_count": 4,
   "id": "32641c6f",
   "metadata": {},
   "outputs": [
    {
     "data": {
      "image/png": "[encoded data removed]",
      "text/plain": [
       "<langgraph.graph.state.CompiledStateGraph object at 0x0000028EDBA5E660>"
      ]
     },
     "execution_count": 4,
     "metadata": {},
     "output_type": "execute_result"
    }
   ],
   "source": [
    "# 3. Build the graph\n",
    "builder = StateGraph(CrashState)\n",
    "builder.add_node(\"step_1\", step_1)\n",
    "builder.add_node(\"step_2\", step_2)\n",
    "builder.add_node(\"step_3\", step_3)\n",
    "\n",
    "builder.set_entry_point(\"step_1\")\n",
    "builder.add_edge(\"step_1\", \"step_2\")\n",
    "builder.add_edge(\"step_2\", \"step_3\")\n",
    "builder.add_edge(\"step_3\", END)\n",
    "\n",
    "checkpointer = InMemorySaver()\n",
    "graph = builder.compile(checkpointer=checkpointer)\n",
    "graph"
   ]
  },
  {
   "cell_type": "code",
   "execution_count": 5,
   "id": "63feaae9",
   "metadata": {},
   "outputs": [
    {
     "name": "stdout",
     "output_type": "stream",
     "text": [
      "▶️ Running graph: Please manually interrupt during Step 2...\n",
      "✅ Step 1 executed\n",
      "⏳ Step 2 hanging... now manually interrupt from the notebook toolbar (STOP button)\n",
      "✅ Step 3 executed\n"
     ]
    }
   ],
   "source": [
    "try:\n",
    "    print(\"▶️ Running graph: Please manually interrupt during Step 2...\")\n",
    "    graph.invoke({\"input\": \"start\"}, config={\"configurable\": {\"thread_id\": 'thread-1'}})\n",
    "except KeyboardInterrupt:\n",
    "    print(\"❌ Kernel manually interrupted (crash simulated).\")"
   ]
  },
  {
   "cell_type": "code",
   "execution_count": 6,
   "id": "64f3b830",
   "metadata": {},
   "outputs": [
    {
     "name": "stdout",
     "output_type": "stream",
     "text": [
      "\n",
      "🔁 Re-running the graph to demonstrate fault tolerance...\n",
      "\n",
      "✅ Final State: {'input': 'start', 'step1': 'done', 'step2': 'done'}\n"
     ]
    }
   ],
   "source": [
    "# 6. Re-run to show fault-tolerant resume\n",
    "print(\"\\n🔁 Re-running the graph to demonstrate fault tolerance...\")\n",
    "final_state = graph.invoke(None, config={\"configurable\": {\"thread_id\": 'thread-1'}})\n",
    "print(\"\\n✅ Final State:\", final_state)"
   ]
  },
  {
   "cell_type": "code",
   "execution_count": 7,
   "id": "ed000143",
   "metadata": {},
   "outputs": [
    {
     "data": {
      "text/plain": [
       "[StateSnapshot(values={'input': 'start', 'step1': 'done', 'step2': 'done'}, next=(), config={'configurable': {'thread_id': 'thread-1', 'checkpoint_ns': '', 'checkpoint_id': '1f0744b2-e711-6718-8003-dfd416e2e964'}}, metadata={'source': 'loop', 'step': 3, 'parents': {}, 'thread_id': 'thread-1'}, created_at='2025-08-08T11:31:09.901785+00:00', parent_config={'configurable': {'thread_id': 'thread-1', 'checkpoint_ns': '', 'checkpoint_id': '1f0744b2-e70f-61e5-8002-78cc0717778d'}}, tasks=(), interrupts=()),\n",
       " StateSnapshot(values={'input': 'start', 'step1': 'done', 'step2': 'done'}, next=('step_3',), config={'configurable': {'thread_id': 'thread-1', 'checkpoint_ns': '', 'checkpoint_id': '1f0744b2-e70f-61e5-8002-78cc0717778d'}}, metadata={'source': 'loop', 'step': 2, 'parents': {}, 'thread_id': 'thread-1'}, created_at='2025-08-08T11:31:09.900814+00:00', parent_config={'configurable': {'thread_id': 'thread-1', 'checkpoint_ns': '', 'checkpoint_id': '1f0744b2-87ad-681a-8001-49b990983302'}}, tasks=(PregelTask(id='11c7b7f3-7dad-92bc-1160-cb29b6f4538d', name='step_3', path=('__pregel_pull', 'step_3'), error=None, interrupts=(), state=None, result={}),), interrupts=()),\n",
       " StateSnapshot(values={'input': 'start', 'step1': 'done'}, next=('step_2',), config={'configurable': {'thread_id': 'thread-1', 'checkpoint_ns': '', 'checkpoint_id': '1f0744b2-87ad-681a-8001-49b990983302'}}, metadata={'source': 'loop', 'step': 1, 'parents': {}, 'thread_id': 'thread-1'}, created_at='2025-08-08T11:30:59.899371+00:00', parent_config={'configurable': {'thread_id': 'thread-1', 'checkpoint_ns': '', 'checkpoint_id': '1f0744b2-8775-618b-8000-6031778ae428'}}, tasks=(PregelTask(id='bbda9058-28cd-52e5-3c1d-3ee50fad93a9', name='step_2', path=('__pregel_pull', 'step_2'), error=None, interrupts=(), state=None, result={'step2': 'done'}),), interrupts=()),\n",
       " StateSnapshot(values={'input': 'start'}, next=('step_1',), config={'configurable': {'thread_id': 'thread-1', 'checkpoint_ns': '', 'checkpoint_id': '1f0744b2-8775-618b-8000-6031778ae428'}}, metadata={'source': 'loop', 'step': 0, 'parents': {}, 'thread_id': 'thread-1'}, created_at='2025-08-08T11:30:59.876259+00:00', parent_config={'configurable': {'thread_id': 'thread-1', 'checkpoint_ns': '', 'checkpoint_id': '1f0744b2-8752-6161-bfff-6cb7a8677da1'}}, tasks=(PregelTask(id='c679d084-ce04-43b8-4d1a-d01a33aaf3c2', name='step_1', path=('__pregel_pull', 'step_1'), error=None, interrupts=(), state=None, result={'step1': 'done', 'input': 'start'}),), interrupts=()),\n",
       " StateSnapshot(values={}, next=('__start__',), config={'configurable': {'thread_id': 'thread-1', 'checkpoint_ns': '', 'checkpoint_id': '1f0744b2-8752-6161-bfff-6cb7a8677da1'}}, metadata={'source': 'input', 'step': -1, 'parents': {}, 'thread_id': 'thread-1'}, created_at='2025-08-08T11:30:59.861917+00:00', parent_config=None, tasks=(PregelTask(id='b2a5f290-22c1-210a-4acd-75afe091fc13', name='__start__', path=('__pregel_pull', '__start__'), error=None, interrupts=(), state=None, result={'input': 'start'}),), interrupts=())]"
      ]
     },
     "execution_count": 7,
     "metadata": {},
     "output_type": "execute_result"
    }
   ],
   "source": [
    "list(graph.get_state_history({\"configurable\": {\"thread_id\": 'thread-1'}}))"
   ]
  }
 ],
 "metadata": {
  "kernelspec": {
   "display_name": "langgraph_tutorials",
   "language": "python",
   "name": "python3"
  },
  "language_info": {
   "codemirror_mode": {
    "name": "ipython",
    "version": 3
   },
   "file_extension": ".py",
   "mimetype": "text/x-python",
   "name": "python",
   "nbconvert_exporter": "python",
   "pygments_lexer": "ipython3",
   "version": "3.13.1"
  }
 },
 "nbformat": 4,
 "nbformat_minor": 5
}
