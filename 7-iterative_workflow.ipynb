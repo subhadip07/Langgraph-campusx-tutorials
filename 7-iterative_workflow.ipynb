{
 "cells": [
  {
   "cell_type": "code",
   "execution_count": 13,
   "id": "117279be",
   "metadata": {},
   "outputs": [
    {
     "data": {
      "text/plain": [
       "True"
      ]
     },
     "execution_count": 13,
     "metadata": {},
     "output_type": "execute_result"
    }
   ],
   "source": [
    "from langgraph.graph import StateGraph, START, END\n",
    "from dotenv import load_dotenv\n",
    "from typing import TypedDict, Annotated, Literal\n",
    "from pydantic import BaseModel, Field\n",
    "from langchain_groq import ChatGroq\n",
    "import operator\n",
    "from langchain_core.messages import SystemMessage, HumanMessage\n",
    "import os\n",
    "\n",
    "api_key = os.getenv('GROQ_API_KEY')\n",
    "llm = ChatGroq(model=\"llama-3.1-8b-instant\", api_key=api_key)\n",
    "load_dotenv()"
   ]
  },
  {
   "cell_type": "code",
   "execution_count": 14,
   "id": "a8ef3e6b",
   "metadata": {},
   "outputs": [],
   "source": [
    "generator_llm = llm\n",
    "evaluator_llm = llm\n",
    "optimizer_llm = llm"
   ]
  },
  {
   "cell_type": "code",
   "execution_count": 15,
   "id": "aac3d8d3",
   "metadata": {},
   "outputs": [],
   "source": [
    "from pydantic import BaseModel, Field\n",
    "\n",
    "class TweetEvaluation(BaseModel):\n",
    "    evaluation: Literal[\"approved\", \"need_improvement\"] = Field(..., description=\"Final evaluation result.\")\n",
    "    feedback: str = Field(..., description=\"Constructive feedback for tweet.\")"
   ]
  },
  {
   "cell_type": "code",
   "execution_count": 16,
   "id": "0e4ce042",
   "metadata": {},
   "outputs": [],
   "source": [
    "structured_evaluation_llm = evaluator_llm.with_structured_output(TweetEvaluation)"
   ]
  },
  {
   "cell_type": "code",
   "execution_count": 17,
   "id": "881487ee",
   "metadata": {},
   "outputs": [],
   "source": [
    "#state\n",
    "class TweetState(TypedDict):\n",
    "    topic: str\n",
    "    tweet: str\n",
    "    evaluation: Literal[\"approved\", \"need_improvement\"]\n",
    "    feedback: str\n",
    "    iteration: int\n",
    "    max_iteration: int\n",
    "\n",
    "    tweet_history: Annotated[list[str], operator.add]\n",
    "    feedback_history: Annotated[list[str], operator.add]\n",
    "    "
   ]
  },
  {
   "cell_type": "code",
   "execution_count": 18,
   "id": "35a7e3de",
   "metadata": {},
   "outputs": [],
   "source": [
    "def generate_tweet(state: TweetState):\n",
    "    # prompt\n",
    "    messages = [\n",
    "        SystemMessage(content=\"You are a funny and clever Twitter/X influencer.\"),\n",
    "        HumanMessage(content=f\"\"\"\n",
    "Write a short, original, and hilarious tweet on the topic: \"{state['topic']}\".\n",
    "\n",
    "Rules:\n",
    "- Do NOT use question-answer format.\n",
    "- Max 280 characters.\n",
    "- Use observational humor, irony, sarcasm, or cultural references.\n",
    "- Think in meme logic, punchlines, or relatable takes.\n",
    "- Use simple, day to day english\n",
    "\"\"\")\n",
    "    ]\n",
    "\n",
    "    # send generator llm\n",
    "    response = generator_llm.invoke(messages).content\n",
    "\n",
    "    # return respone\n",
    "    return {'tweet': response, 'tweet_history': [response]}"
   ]
  },
  {
   "cell_type": "code",
   "execution_count": 19,
   "id": "765afdd3",
   "metadata": {},
   "outputs": [],
   "source": [
    "def evaluate_tweet(state: TweetState):\n",
    "    # prompt\n",
    "    messages = [\n",
    "        SystemMessage(content=\"You are a ruthless, no-laugh-given Twitter critic. You evaluate tweets based on humor, originality, virality, and tweet format.\"),\n",
    "        HumanMessage(content=f\"\"\"\n",
    "        Evaluate the following tweet:\n",
    "\n",
    "        Tweet: \"{state['tweet']}\"\n",
    "\n",
    "        Use the criteria below to evaluate the tweet:\n",
    "\n",
    "        1. Originally - Is this fresh, or have you seen it a hundred times before?\n",
    "        2. Humor - Did it genuinely make you smile, laugh, or chuckle?\n",
    "        3. Punchiness - It is short, sharp, and scroll-stopping?\n",
    "        4. Virality Potential - would people retweet or share it?\n",
    "        5. Format - Is it a well-formed tweet (not a setup-punchline joke, not a Q&A joke, and under 200 characters)?\n",
    "\n",
    "        Auto-reject if:\n",
    "        - It's written in question-answer format (e.g, \"Why did...\" or \"What happens when...\")\n",
    "        - It exceeds 280 characters\n",
    "        - It reads like a traditional setup-punchline joke\n",
    "        - Don't end with generic, throwaway, or deflating lines that weaken the humor (e.g, \"Masterpieces of the auntie-unlce universe\" or vague summaries)\n",
    "\n",
    "        ### Respond ONLY in structured format:\n",
    "        - evaluation: \"approved\" or \"needs_improvement\"\n",
    "        - feedback: One paragraph explaining the strengths and weaknesses\n",
    "        \"\"\")\n",
    "    ]\n",
    "\n",
    "    response = structured_evaluation_llm.invoke(messages)\n",
    "\n",
    "    return {'evaluation': response.evaluation, 'feedback': response.feedback, 'feedback_history': [response.feedback]}"
   ]
  },
  {
   "cell_type": "code",
   "execution_count": 20,
   "id": "5584dc9c",
   "metadata": {},
   "outputs": [],
   "source": [
    "def optimize_tweet(state: TweetState):\n",
    "    messages = [\n",
    "        SystemMessage(content=\"You punch up tweets for virality and humor based on given feedback.\"),\n",
    "        HumanMessage(content = f\"\"\"\n",
    "        \n",
    "        Improve the tweet based on this feedback:\n",
    "        \"{state['feedback']}\"\n",
    "\n",
    "        Topic: \"{state['topic']}\"\n",
    "        Original Tweet:\n",
    "        {state['tweet']}\n",
    "\n",
    "        Rewrite it as a short, viral-worthy tweet. Avoid Q&A style and stay under 280 characters.\n",
    "        \"\"\")\n",
    "    ]\n",
    "\n",
    "    response = optimizer_llm.invoke(messages).content\n",
    "    iteration = state['iteration'] + 1\n",
    "\n",
    "    return {'tweet': response, 'iteration': iteration, 'tweet_history': [response]}"
   ]
  },
  {
   "cell_type": "code",
   "execution_count": 21,
   "id": "b770a265",
   "metadata": {},
   "outputs": [],
   "source": [
    "def route_evaluation(state: TweetState):\n",
    "\n",
    "    if state['evaluation'] == 'approved' or state['iteration'] >= state['max_iteration']:\n",
    "        return 'approved'\n",
    "    else:\n",
    "        return 'need_improvement'"
   ]
  },
  {
   "cell_type": "code",
   "execution_count": 22,
   "id": "0d7c0f31",
   "metadata": {},
   "outputs": [
    {
     "data": {
      "image/png": "[encoded data removed]",
      "text/plain": [
       "<langgraph.graph.state.CompiledStateGraph object at 0x0000021344145310>"
      ]
     },
     "execution_count": 22,
     "metadata": {},
     "output_type": "execute_result"
    }
   ],
   "source": [
    "graph = StateGraph(TweetState)\n",
    "\n",
    "graph.add_node('generate', generate_tweet)\n",
    "graph.add_node('evaluate', evaluate_tweet)\n",
    "graph.add_node('optimize', optimize_tweet)\n",
    "\n",
    "graph.add_edge(START, 'generate')\n",
    "graph.add_edge('generate', 'evaluate')\n",
    "\n",
    "graph.add_conditional_edges('evaluate', route_evaluation, {'approved': END, 'need_improvement': 'optimize'})\n",
    "graph.add_edge('optimize', 'evaluate')\n",
    "\n",
    "workflow = graph.compile()\n",
    "workflow\n"
   ]
  },
  {
   "cell_type": "code",
   "execution_count": 25,
   "id": "242d8e63",
   "metadata": {},
   "outputs": [
    {
     "data": {
      "text/plain": [
       "{'topic': 'Railways',\n",
       " 'tweet': '\"Just spent 3 hours on a train with a guy who\\'s been playing the same 10-second clip of \\'Baby Shark\\' on a loop. Train delays are just a form of sonic punishment #RailwayLife #BabySharkForever\"',\n",
       " 'evaluation': 'approved',\n",
       " 'feedback': \"This tweet effectively utilizes the 280 character limit, employs a well-structured and concise format, and has a clear narrative. The humor is present in the relatable scenario and clever use of 'sonic punishment', making it engaging and likely to elicit a chuckle. However, the tweet could benefit from a touch more originality, as this type of anecdote is not uncommon. The hashtags #RailwayLife and #BabySharkForever are a good addition, potentially increasing the tweet's virality.\",\n",
       " 'iteration': 1,\n",
       " 'max_iteration': 5,\n",
       " 'tweet_history': ['\"Just spent 3 hours on a train with a guy who\\'s been playing the same 10-second clip of \\'Baby Shark\\' on a loop. Train delays are just a form of sonic punishment #RailwayLife #BabySharkForever\"'],\n",
       " 'feedback_history': [\"This tweet effectively utilizes the 280 character limit, employs a well-structured and concise format, and has a clear narrative. The humor is present in the relatable scenario and clever use of 'sonic punishment', making it engaging and likely to elicit a chuckle. However, the tweet could benefit from a touch more originality, as this type of anecdote is not uncommon. The hashtags #RailwayLife and #BabySharkForever are a good addition, potentially increasing the tweet's virality.\"]}"
      ]
     },
     "execution_count": 25,
     "metadata": {},
     "output_type": "execute_result"
    }
   ],
   "source": [
    "initial_state = {\n",
    "    \"topic\": \"Railways\",\n",
    "    \"iteration\": 1,\n",
    "    \"max_iteration\": 5\n",
    "}\n",
    "\n",
    "result=workflow.invoke(initial_state)\n",
    "result"
   ]
  },
  {
   "cell_type": "code",
   "execution_count": 26,
   "id": "5ec46eaa",
   "metadata": {},
   "outputs": [
    {
     "name": "stdout",
     "output_type": "stream",
     "text": [
      "\"Just spent 3 hours on a train with a guy who's been playing the same 10-second clip of 'Baby Shark' on a loop. Train delays are just a form of sonic punishment #RailwayLife #BabySharkForever\"\n"
     ]
    }
   ],
   "source": [
    "for tweet in result['tweet_history']:\n",
    "    print(tweet)"
   ]
  },
  {
   "cell_type": "code",
   "execution_count": null,
   "id": "4f328d86",
   "metadata": {},
   "outputs": [],
   "source": []
  }
 ],
 "metadata": {
  "kernelspec": {
   "display_name": "langgraph_tutorials",
   "language": "python",
   "name": "python3"
  },
  "language_info": {
   "codemirror_mode": {
    "name": "ipython",
    "version": 3
   },
   "file_extension": ".py",
   "mimetype": "text/x-python",
   "name": "python",
   "nbconvert_exporter": "python",
   "pygments_lexer": "ipython3",
   "version": "3.13.1"
  }
 },
 "nbformat": 4,
 "nbformat_minor": 5
}
