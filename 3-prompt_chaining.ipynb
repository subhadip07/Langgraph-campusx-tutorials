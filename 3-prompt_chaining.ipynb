{
 "cells": [
  {
   "cell_type": "code",
   "execution_count": 1,
   "id": "9d3cec4f",
   "metadata": {},
   "outputs": [],
   "source": [
    "from langgraph.graph import StateGraph, START, END\n",
    "from typing import TypedDict\n",
    "import os\n",
    "from dotenv import load_dotenv\n",
    "from langchain_groq import ChatGroq\n",
    "load_dotenv()\n",
    "\n",
    "api_key = os.getenv('GROQ_API_KEY')\n",
    "llm = ChatGroq(model=\"llama-3.1-8b-instant\", api_key=api_key)"
   ]
  },
  {
   "cell_type": "code",
   "execution_count": 2,
   "id": "0333c86f",
   "metadata": {},
   "outputs": [],
   "source": [
    "class BlogState(TypedDict):\n",
    "    title: str\n",
    "    outline: str\n",
    "    content: str"
   ]
  },
  {
   "cell_type": "code",
   "execution_count": 5,
   "id": "bd4e2697",
   "metadata": {},
   "outputs": [],
   "source": [
    "def create_outline(state: BlogState) -> BlogState:\n",
    "\n",
    "    # fetch title\n",
    "    title = state['title']\n",
    "\n",
    "    # call llm gen outline\n",
    "    prompt = f'Generate a detailed outline for a blog on the topic - {title}'\n",
    "    outline = llm.invoke(prompt).content\n",
    "\n",
    "    # update state\n",
    "    state['outline'] = outline\n",
    "\n",
    "    return state"
   ]
  },
  {
   "cell_type": "code",
   "execution_count": 6,
   "id": "cbec6be9",
   "metadata": {},
   "outputs": [],
   "source": [
    "def create_blog(state: BlogState) -> BlogState:\n",
    "\n",
    "    title = state['title']\n",
    "    outline = state['outline']\n",
    "\n",
    "    prompt = f'Write a detailed blog on the title - {title} using the follwing outline \\n {outline}'\n",
    "\n",
    "    content = llm.invoke(prompt).content\n",
    "\n",
    "    state['content'] = content\n",
    "\n",
    "    return state"
   ]
  },
  {
   "cell_type": "code",
   "execution_count": 11,
   "id": "7b4ba662",
   "metadata": {},
   "outputs": [
    {
     "data": {
      "image/png": "[encoded data removed]",
      "text/plain": [
       "<langgraph.graph.state.CompiledStateGraph object at 0x00000228772134D0>"
      ]
     },
     "execution_count": 11,
     "metadata": {},
     "output_type": "execute_result"
    }
   ],
   "source": [
    "graph = StateGraph(BlogState)\n",
    "\n",
    "# nodes\n",
    "graph.add_node('create_outline', create_outline)\n",
    "graph.add_node('create_blog', create_blog)\n",
    "\n",
    "# edges\n",
    "graph.add_edge(START, 'create_outline')\n",
    "graph.add_edge('create_outline', 'create_blog')\n",
    "graph.add_edge('create_blog', END)\n",
    "\n",
    "workflow = graph.compile()\n",
    "workflow"
   ]
  },
  {
   "cell_type": "code",
   "execution_count": 8,
   "id": "a33c1efc",
   "metadata": {},
   "outputs": [
    {
     "name": "stdout",
     "output_type": "stream",
     "text": [
      "{'title': 'Rise of AI in India', 'outline': \"**Title:** The Rise of AI in India: Opportunities, Challenges, and Future Prospects\\n\\n**I. Introduction**\\n\\n- Brief overview of AI and its growing importance worldwide\\n- Introduction to the Indian AI ecosystem and its current state\\n- Thesis statement: The rise of AI in India presents significant opportunities for economic growth, innovation, and job creation, but also poses challenges that need to be addressed.\\n\\n**II. Current State of AI in India**\\n\\n- Overview of the Indian AI market size and growth rate\\n- Key AI-related initiatives and projects in India (e.g., NITI Aayog's AI for All program)\\n- Major players in the Indian AI industry, including startups and established companies\\n\\n**III. Opportunities of AI in India**\\n\\n- Economic growth and job creation: How AI can drive economic growth, create new job opportunities, and bridge the skills gap\\n- Healthcare and medical research: AI applications in medical diagnosis, personalized medicine, and healthcare services\\n- Education and skills development: AI-powered online learning platforms and personalized education\\n- Agriculture and rural development: AI-assisted farming, crop monitoring, and precision agriculture\\n- Cybersecurity: AI-powered threat detection and response systems\\n\\n**IV. Challenges of AI in India**\\n\\n- Data quality and availability: The need for high-quality and diverse data sets to train AI models\\n- Regulatory framework: The lack of clear regulations and standards for AI development and deployment\\n- Talent and skills gap: The shortage of skilled AI professionals and the need for upskilling and reskilling programs\\n- Bias and ethics: The risk of AI systems perpetuating biases and the need for diversity, equity, and inclusion\\n- Job displacement: The potential impact of AI on employment and the need for social safety nets\\n\\n**V. Government Initiatives and Policies**\\n\\n- Overview of government initiatives to promote AI development and adoption in India (e.g., AI for All, Digital India)\\n- Analysis of government policies and regulations related to AI, including data protection and privacy laws\\n- Review of tax incentives and subsidies for AI-related startups and businesses\\n\\n**VI. Future Prospects and Predictions**\\n\\n- Emerging trends and technologies in AI, including edge AI, explainable AI, and human-AI collaboration\\n- Future applications of AI in India, including smart cities, transportation, and energy management\\n- Predictions for the growth of the Indian AI industry and its potential impact on the economy and society\\n\\n**VII. Conclusion**\\n\\n- Recap of the opportunities and challenges of AI in India\\n- Call to action for policymakers, businesses, and individuals to work together to harness the potential of AI\\n- Final thoughts on the future of AI in India and its implications for the world.\\n\\n**VIII. Recommendations**\\n\\n- Recommendations for policymakers, including the need for a clear regulatory framework and investment in AI research and development\\n- Recommendations for businesses, including the need to invest in AI talent and infrastructure and to prioritize ethics and diversity\\n- Recommendations for individuals, including the need to upskill and reskill for AI-related jobs and to stay informed about AI developments and trends.\", 'content': \"**The Rise of AI in India: Opportunities, Challenges, and Future Prospects**\\n\\nArtificial intelligence (AI) has been making waves around the world, transforming industries, and revolutionizing the way we live and work. India, with its vast pool of talent, growing economy, and innovative spirit, is poised to be a major player in the global AI landscape. In this blog, we will delve into the current state of AI in India, explore the opportunities and challenges it presents, and examine the future prospects of this rapidly evolving field.\\n\\n**I. Introduction**\\n\\nAI has become an indispensable tool in today's digital age, with applications in healthcare, finance, education, and beyond. From chatbots to self-driving cars, AI-powered technologies are transforming the way we interact with the world. According to a report by MarketsandMarkets, the global AI market is expected to reach $190 billion by 2025, growing at a compound annual growth rate (CAGR) of 38.4%. India, with its large and young population, is well-positioned to tap into this growth.\\n\\nIn India, the AI ecosystem is still in its nascent stages, but it has been gaining momentum in recent years. The Indian government has launched several initiatives to promote AI development and adoption, including the AI for All program by NITI Aayog, a think tank under the Prime Minister's Office. These initiatives aim to create a robust AI ecosystem in India, leveraging the country's strengths in technology, innovation, and talent.\\n\\n**II. Current State of AI in India**\\n\\nThe Indian AI market is expected to reach $135.7 billion by 2025, growing at a CAGR of 28.5%. The market is driven by various sectors, including:\\n\\n1. **Healthcare**: AI-powered medical imaging, personalized medicine, and healthcare services are gaining traction in India.\\n2. **Finance**: AI-driven banking, lending, and financial analytics are transforming the Indian finance sector.\\n3. **Education**: AI-powered online learning platforms and personalized education are becoming increasingly popular.\\n4. **Agriculture**: AI-assisted farming, crop monitoring, and precision agriculture are being adopted by farmers in India.\\n5. **Cybersecurity**: AI-powered threat detection and response systems are becoming essential for protecting against cyber threats.\\n\\nSome of the key players in the Indian AI industry include:\\n\\n1. **Startups**: Companies like Hike, Paytm, and Flipkart are leveraging AI to drive innovation and growth.\\n2. **Established companies**: Companies like Infosys, Wipro, and Tata Consultancy Services (TCS) are investing heavily in AI research and development.\\n3. **Research institutions**: Institutes like the Indian Institute of Technology (IIT) and the Indian Institute of Science (IISc) are driving AI research and innovation.\\n\\n**III. Opportunities of AI in India**\\n\\nAI has the potential to drive significant economic growth, create new job opportunities, and bridge the skills gap in India. Some of the key opportunities include:\\n\\n1. **Economic growth**: AI can drive economic growth by increasing productivity, improving efficiency, and creating new industries.\\n2. **Job creation**: AI can create new job opportunities in fields like AI development, deployment, and maintenance.\\n3. **Healthcare and medical research**: AI can improve healthcare outcomes, personalize medicine, and accelerate medical research.\\n4. **Education and skills development**: AI can create personalized learning experiences, improve education outcomes, and upskill workers for AI-related jobs.\\n5. **Agriculture and rural development**: AI can improve crop yields, reduce waste, and increase rural incomes.\\n6. **Cybersecurity**: AI can detect and respond to cyber threats, protecting individuals, businesses, and governments from cyber attacks.\\n\\n**IV. Challenges of AI in India**\\n\\nWhile AI presents numerous opportunities, it also poses several challenges that need to be addressed:\\n\\n1. **Data quality and availability**: India lacks high-quality and diverse data sets to train AI models, hindering AI development and deployment.\\n2. **Regulatory framework**: India lacks a clear regulatory framework for AI development and deployment, creating uncertainty and challenges for businesses.\\n3. **Talent and skills gap**: India faces a shortage of skilled AI professionals, requiring upskilling and reskilling programs to bridge the gap.\\n4. **Bias and ethics**: AI systems can perpetuate biases, requiring diversity, equity, and inclusion to ensure fair and just outcomes.\\n5. **Job displacement**: AI has the potential to displace jobs, requiring social safety nets and retraining programs to support workers.\\n\\n**V. Government Initiatives and Policies**\\n\\nThe Indian government has launched several initiatives to promote AI development and adoption, including:\\n\\n1. **AI for All**: A program to create a robust AI ecosystem in India, leveraging the country's strengths in technology, innovation, and talent.\\n2. **Digital India**: A program to transform India into a digitally empowered society and knowledge economy.\\n3. **Tax incentives**: The government offers tax incentives and subsidies for AI-related startups and businesses.\\n4. **Data protection and privacy laws**: The government has enacted data protection and privacy laws to ensure the safe and secure use of AI.\\n\\n**VI. Future Prospects and Predictions**\\n\\nThe future of AI in India looks bright, with emerging trends and technologies like:\\n\\n1. **Edge AI**: AI processing at the edge of the network, reducing latency and improving performance.\\n2. **Explainable AI**: AI systems that provide transparent and interpretable insights, improving trust and adoption.\\n3. **Human-AI collaboration**: AI systems that collaborate with humans, improving productivity and efficiency.\\n\\nFuture applications of AI in India include:\\n\\n1. **Smart cities**: AI-powered infrastructure, transportation, and energy management systems.\\n2. **Transportation**: AI-powered self-driving cars, buses, and trucks.\\n3. **Energy management**: AI-powered energy generation, distribution, and consumption systems.\\n\\n**VII. Conclusion**\\n\\nThe rise of AI in India presents significant opportunities for economic growth, innovation, and job creation. However, it also poses challenges that need to be addressed, including data quality and availability, regulatory frameworks, talent and skills gaps, bias and ethics, and job displacement. To harness the potential of AI, policymakers, businesses, and individuals must work together to create a robust AI ecosystem in India.\\n\\n**VIII. Recommendations**\\n\\nTo realize the potential of AI in India, we recommend:\\n\\n1. **Policymakers**: Create a clear regulatory framework, invest in AI research and development, and provide tax incentives and subsidies for AI-related startups and businesses.\\n2. **Businesses**: Invest in AI talent and infrastructure, prioritize ethics and diversity, and upskill and reskill workers for AI-related jobs.\\n3. **Individuals**: Upskill and reskill for AI-related jobs, stay informed about AI developments and trends, and participate in AI-related initiatives and projects.\\n\\nThe future of AI in India is bright, with numerous opportunities and challenges waiting to be addressed. By working together, we can create a robust AI ecosystem in India, driving economic growth, innovation, and job creation, and making India a leader in the global AI landscape.\"}\n"
     ]
    }
   ],
   "source": [
    "intial_state = {'title': 'Rise of AI in India'}\n",
    "\n",
    "final_state = workflow.invoke(intial_state)\n",
    "\n",
    "print(final_state)"
   ]
  },
  {
   "cell_type": "code",
   "execution_count": 9,
   "id": "727988d7",
   "metadata": {},
   "outputs": [
    {
     "name": "stdout",
     "output_type": "stream",
     "text": [
      "**Title:** The Rise of AI in India: Opportunities, Challenges, and Future Prospects\n",
      "\n",
      "**I. Introduction**\n",
      "\n",
      "- Brief overview of AI and its growing importance worldwide\n",
      "- Introduction to the Indian AI ecosystem and its current state\n",
      "- Thesis statement: The rise of AI in India presents significant opportunities for economic growth, innovation, and job creation, but also poses challenges that need to be addressed.\n",
      "\n",
      "**II. Current State of AI in India**\n",
      "\n",
      "- Overview of the Indian AI market size and growth rate\n",
      "- Key AI-related initiatives and projects in India (e.g., NITI Aayog's AI for All program)\n",
      "- Major players in the Indian AI industry, including startups and established companies\n",
      "\n",
      "**III. Opportunities of AI in India**\n",
      "\n",
      "- Economic growth and job creation: How AI can drive economic growth, create new job opportunities, and bridge the skills gap\n",
      "- Healthcare and medical research: AI applications in medical diagnosis, personalized medicine, and healthcare services\n",
      "- Education and skills development: AI-powered online learning platforms and personalized education\n",
      "- Agriculture and rural development: AI-assisted farming, crop monitoring, and precision agriculture\n",
      "- Cybersecurity: AI-powered threat detection and response systems\n",
      "\n",
      "**IV. Challenges of AI in India**\n",
      "\n",
      "- Data quality and availability: The need for high-quality and diverse data sets to train AI models\n",
      "- Regulatory framework: The lack of clear regulations and standards for AI development and deployment\n",
      "- Talent and skills gap: The shortage of skilled AI professionals and the need for upskilling and reskilling programs\n",
      "- Bias and ethics: The risk of AI systems perpetuating biases and the need for diversity, equity, and inclusion\n",
      "- Job displacement: The potential impact of AI on employment and the need for social safety nets\n",
      "\n",
      "**V. Government Initiatives and Policies**\n",
      "\n",
      "- Overview of government initiatives to promote AI development and adoption in India (e.g., AI for All, Digital India)\n",
      "- Analysis of government policies and regulations related to AI, including data protection and privacy laws\n",
      "- Review of tax incentives and subsidies for AI-related startups and businesses\n",
      "\n",
      "**VI. Future Prospects and Predictions**\n",
      "\n",
      "- Emerging trends and technologies in AI, including edge AI, explainable AI, and human-AI collaboration\n",
      "- Future applications of AI in India, including smart cities, transportation, and energy management\n",
      "- Predictions for the growth of the Indian AI industry and its potential impact on the economy and society\n",
      "\n",
      "**VII. Conclusion**\n",
      "\n",
      "- Recap of the opportunities and challenges of AI in India\n",
      "- Call to action for policymakers, businesses, and individuals to work together to harness the potential of AI\n",
      "- Final thoughts on the future of AI in India and its implications for the world.\n",
      "\n",
      "**VIII. Recommendations**\n",
      "\n",
      "- Recommendations for policymakers, including the need for a clear regulatory framework and investment in AI research and development\n",
      "- Recommendations for businesses, including the need to invest in AI talent and infrastructure and to prioritize ethics and diversity\n",
      "- Recommendations for individuals, including the need to upskill and reskill for AI-related jobs and to stay informed about AI developments and trends.\n"
     ]
    }
   ],
   "source": [
    "print(final_state['outline'])"
   ]
  },
  {
   "cell_type": "code",
   "execution_count": 10,
   "id": "2d16e6ab",
   "metadata": {},
   "outputs": [
    {
     "name": "stdout",
     "output_type": "stream",
     "text": [
      "**The Rise of AI in India: Opportunities, Challenges, and Future Prospects**\n",
      "\n",
      "Artificial intelligence (AI) has been making waves around the world, transforming industries, and revolutionizing the way we live and work. India, with its vast pool of talent, growing economy, and innovative spirit, is poised to be a major player in the global AI landscape. In this blog, we will delve into the current state of AI in India, explore the opportunities and challenges it presents, and examine the future prospects of this rapidly evolving field.\n",
      "\n",
      "**I. Introduction**\n",
      "\n",
      "AI has become an indispensable tool in today's digital age, with applications in healthcare, finance, education, and beyond. From chatbots to self-driving cars, AI-powered technologies are transforming the way we interact with the world. According to a report by MarketsandMarkets, the global AI market is expected to reach $190 billion by 2025, growing at a compound annual growth rate (CAGR) of 38.4%. India, with its large and young population, is well-positioned to tap into this growth.\n",
      "\n",
      "In India, the AI ecosystem is still in its nascent stages, but it has been gaining momentum in recent years. The Indian government has launched several initiatives to promote AI development and adoption, including the AI for All program by NITI Aayog, a think tank under the Prime Minister's Office. These initiatives aim to create a robust AI ecosystem in India, leveraging the country's strengths in technology, innovation, and talent.\n",
      "\n",
      "**II. Current State of AI in India**\n",
      "\n",
      "The Indian AI market is expected to reach $135.7 billion by 2025, growing at a CAGR of 28.5%. The market is driven by various sectors, including:\n",
      "\n",
      "1. **Healthcare**: AI-powered medical imaging, personalized medicine, and healthcare services are gaining traction in India.\n",
      "2. **Finance**: AI-driven banking, lending, and financial analytics are transforming the Indian finance sector.\n",
      "3. **Education**: AI-powered online learning platforms and personalized education are becoming increasingly popular.\n",
      "4. **Agriculture**: AI-assisted farming, crop monitoring, and precision agriculture are being adopted by farmers in India.\n",
      "5. **Cybersecurity**: AI-powered threat detection and response systems are becoming essential for protecting against cyber threats.\n",
      "\n",
      "Some of the key players in the Indian AI industry include:\n",
      "\n",
      "1. **Startups**: Companies like Hike, Paytm, and Flipkart are leveraging AI to drive innovation and growth.\n",
      "2. **Established companies**: Companies like Infosys, Wipro, and Tata Consultancy Services (TCS) are investing heavily in AI research and development.\n",
      "3. **Research institutions**: Institutes like the Indian Institute of Technology (IIT) and the Indian Institute of Science (IISc) are driving AI research and innovation.\n",
      "\n",
      "**III. Opportunities of AI in India**\n",
      "\n",
      "AI has the potential to drive significant economic growth, create new job opportunities, and bridge the skills gap in India. Some of the key opportunities include:\n",
      "\n",
      "1. **Economic growth**: AI can drive economic growth by increasing productivity, improving efficiency, and creating new industries.\n",
      "2. **Job creation**: AI can create new job opportunities in fields like AI development, deployment, and maintenance.\n",
      "3. **Healthcare and medical research**: AI can improve healthcare outcomes, personalize medicine, and accelerate medical research.\n",
      "4. **Education and skills development**: AI can create personalized learning experiences, improve education outcomes, and upskill workers for AI-related jobs.\n",
      "5. **Agriculture and rural development**: AI can improve crop yields, reduce waste, and increase rural incomes.\n",
      "6. **Cybersecurity**: AI can detect and respond to cyber threats, protecting individuals, businesses, and governments from cyber attacks.\n",
      "\n",
      "**IV. Challenges of AI in India**\n",
      "\n",
      "While AI presents numerous opportunities, it also poses several challenges that need to be addressed:\n",
      "\n",
      "1. **Data quality and availability**: India lacks high-quality and diverse data sets to train AI models, hindering AI development and deployment.\n",
      "2. **Regulatory framework**: India lacks a clear regulatory framework for AI development and deployment, creating uncertainty and challenges for businesses.\n",
      "3. **Talent and skills gap**: India faces a shortage of skilled AI professionals, requiring upskilling and reskilling programs to bridge the gap.\n",
      "4. **Bias and ethics**: AI systems can perpetuate biases, requiring diversity, equity, and inclusion to ensure fair and just outcomes.\n",
      "5. **Job displacement**: AI has the potential to displace jobs, requiring social safety nets and retraining programs to support workers.\n",
      "\n",
      "**V. Government Initiatives and Policies**\n",
      "\n",
      "The Indian government has launched several initiatives to promote AI development and adoption, including:\n",
      "\n",
      "1. **AI for All**: A program to create a robust AI ecosystem in India, leveraging the country's strengths in technology, innovation, and talent.\n",
      "2. **Digital India**: A program to transform India into a digitally empowered society and knowledge economy.\n",
      "3. **Tax incentives**: The government offers tax incentives and subsidies for AI-related startups and businesses.\n",
      "4. **Data protection and privacy laws**: The government has enacted data protection and privacy laws to ensure the safe and secure use of AI.\n",
      "\n",
      "**VI. Future Prospects and Predictions**\n",
      "\n",
      "The future of AI in India looks bright, with emerging trends and technologies like:\n",
      "\n",
      "1. **Edge AI**: AI processing at the edge of the network, reducing latency and improving performance.\n",
      "2. **Explainable AI**: AI systems that provide transparent and interpretable insights, improving trust and adoption.\n",
      "3. **Human-AI collaboration**: AI systems that collaborate with humans, improving productivity and efficiency.\n",
      "\n",
      "Future applications of AI in India include:\n",
      "\n",
      "1. **Smart cities**: AI-powered infrastructure, transportation, and energy management systems.\n",
      "2. **Transportation**: AI-powered self-driving cars, buses, and trucks.\n",
      "3. **Energy management**: AI-powered energy generation, distribution, and consumption systems.\n",
      "\n",
      "**VII. Conclusion**\n",
      "\n",
      "The rise of AI in India presents significant opportunities for economic growth, innovation, and job creation. However, it also poses challenges that need to be addressed, including data quality and availability, regulatory frameworks, talent and skills gaps, bias and ethics, and job displacement. To harness the potential of AI, policymakers, businesses, and individuals must work together to create a robust AI ecosystem in India.\n",
      "\n",
      "**VIII. Recommendations**\n",
      "\n",
      "To realize the potential of AI in India, we recommend:\n",
      "\n",
      "1. **Policymakers**: Create a clear regulatory framework, invest in AI research and development, and provide tax incentives and subsidies for AI-related startups and businesses.\n",
      "2. **Businesses**: Invest in AI talent and infrastructure, prioritize ethics and diversity, and upskill and reskill workers for AI-related jobs.\n",
      "3. **Individuals**: Upskill and reskill for AI-related jobs, stay informed about AI developments and trends, and participate in AI-related initiatives and projects.\n",
      "\n",
      "The future of AI in India is bright, with numerous opportunities and challenges waiting to be addressed. By working together, we can create a robust AI ecosystem in India, driving economic growth, innovation, and job creation, and making India a leader in the global AI landscape.\n"
     ]
    }
   ],
   "source": [
    "print(final_state['content'])"
   ]
  },
  {
   "cell_type": "code",
   "execution_count": null,
   "id": "ae288d9b",
   "metadata": {},
   "outputs": [],
   "source": []
  }
 ],
 "metadata": {
  "kernelspec": {
   "display_name": "langgraph_tutorials",
   "language": "python",
   "name": "python3"
  },
  "language_info": {
   "codemirror_mode": {
    "name": "ipython",
    "version": 3
   },
   "file_extension": ".py",
   "mimetype": "text/x-python",
   "name": "python",
   "nbconvert_exporter": "python",
   "pygments_lexer": "ipython3",
   "version": "3.13.1"
  }
 },
 "nbformat": 4,
 "nbformat_minor": 5
}
